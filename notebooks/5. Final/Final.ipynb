{
  "cells": [
    {
      "cell_type": "markdown",
      "metadata": {
        "id": "WpZow7l2AIsl"
      },
      "source": [
        "#✅ DNABERT ➜ Spike Encoder ➜ Brian2 SNN: Final Pipeline\n",
        "##🧠 This notebook runs the full NeuroGenAI pipeline: from DNA to spikes, simulating brain-like computation on genetic sequences."
      ]
    },
    {
      "cell_type": "markdown",
      "metadata": {
        "id": "kSSlqrAyAMNs"
      },
      "source": [
        "##🧩 1. Setup & Imports"
      ]
    },
    {
      "cell_type": "code",
      "execution_count": null,
      "metadata": {
        "id": "iONv9wmB8vuU"
      },
      "outputs": [],
      "source": [
        "# 📦 Dependencies\n",
        "!pip install matplotlib numpy transformers==4.41.0 torch brian2 scikit-learn\n",
        "\n",
        "import os\n",
        "import numpy as np\n",
        "import pandas as pd\n",
        "import matplotlib.pyplot as plt\n",
        "import torch\n",
        "from transformers import AutoTokenizer, AutoModel\n",
        "import time\n",
        "from sklearn.preprocessing import MinMaxScaler\n",
        "from brian2 import *\n",
        "import json\n",
        "\n",
        "# 🧠 Core modules\n",
        "from src.nlp.dna_embedding_model import DNAEmbedder\n",
        "from src.snn.spike_encoder import SpikeEncoder\n",
        "from src.snn.brian_model import run_brian2_simulation\n",
        "from src.eval.snn_metrics import evaluate_spikes"
      ]
    },
    {
      "cell_type": "markdown",
      "metadata": {
        "id": "D2YJlnXvDrPY"
      },
      "source": [
        "##🧬 2. Load and Clean DNA Sequences"
      ]
    },
    {
      "cell_type": "code",
      "execution_count": null,
      "metadata": {
        "id": "JpAesYJ9DsxK"
      },
      "outputs": [],
      "source": [
        "# 🧬 Load example FASTA (can be your own)\n",
        "fasta_path = \"data/processed/human_fasta_clean.csv\"\n",
        "df = pd.read_csv(fasta_path)\n",
        "\n",
        "# Filter for clean sequences\n",
        "df = df[df[\"Length\"] >= 30].head(100)  # ✅ Just use top 100 for demo\n",
        "sequences = df[\"Sequence\"].tolist()\n",
        "print(f\"✅ Loaded {len(sequences)} DNA sequences.\")"
      ]
    },
    {
      "cell_type": "markdown",
      "metadata": {
        "id": "lmujhBb0DuXL"
      },
      "source": [
        "##🔬 3. Embed with DNABERT"
      ]
    },
    {
      "cell_type": "code",
      "execution_count": null,
      "metadata": {
        "id": "QkUaAmNADwPR"
      },
      "outputs": [],
      "source": [
        "# 🔬 Embed DNA with DNABERT\n",
        "embedder = DNAEmbedder(model_id=\"zhihan1996/DNA_bert_6\", k=6)\n",
        "# Extract sequences\n",
        "sequences = df[\"Sequence\"].tolist()\n",
        "\n",
        "# Embed all\n",
        "embeddings = embedder.embed_batch(sequences)\n",
        "print(\"✅ Final embedding shape:\", embeddings.shape)\n",
        "\n",
        "# Save as .npy\n",
        "np.save(\"data/processed/fasta_dnabert_embeddings.npy\", embeddings)\n",
        "print(\"📁 Saved to: data/processed/fasta_dnabert_embeddings.npy\")"
      ]
    },
    {
      "cell_type": "markdown",
      "metadata": {
        "id": "7igGpOvqDzmL"
      },
      "source": [
        "##⚡ 4. Encode Spikes from Embeddings"
      ]
    },
    {
      "cell_type": "code",
      "execution_count": null,
      "metadata": {
        "id": "mLkTmGQID0vR"
      },
      "outputs": [],
      "source": [
        "encoder = SpikeEncoder(rate_max_hz=120)\n",
        "\n",
        "# Normalize + Firing rates\n",
        "norm_rates = encoder.normalize_embeddings(embeddings)\n",
        "firing_rates = encoder.to_firing_rates(norm_rates)\n",
        "np.save(\"data/processed/firing_rates.npy\", firing_rates)\n",
        "\n",
        "# ⏱️ Generate spike matrix\n",
        "spike_matrix = encoder.generate_poisson_spike_train(firing_rates)\n",
        "np.save(\"data/processed/spike_train.npy\", spike_matrix)\n",
        "\n",
        "print(\"✅ Spike train shape:\", spike_matrix.shape)"
      ]
    },
    {
      "cell_type": "markdown",
      "metadata": {
        "id": "LFVRmjUmEA2H"
      },
      "source": [
        "##🧠 5. Simulate Spiking Neural Network (Brian2)"
      ]
    },
    {
      "cell_type": "code",
      "execution_count": null,
      "metadata": {
        "id": "kjzlWVFRECgJ"
      },
      "outputs": [],
      "source": [
        "# 🔬 Run brain-inspired simulation\n",
        "snn_duration_ms = 100\n",
        "sim_result_path = \"data/outputs/snn_sim_results.npz\"\n",
        "plot_path = \"data/outputs/snn_spike_plot.png\"\n",
        "\n",
        "# 📥 Load spike matrix\n",
        "spike_matrix = np.load(\"data/processed/spike_train.npy\")\n",
        "\n",
        "# 🧠 Run brain-inspired simulation\n",
        "run_brian2_simulation(\n",
        "    spike_matrix=spike_matrix,\n",
        "    duration_ms=snn_duration_ms,\n",
        "    plot_path=plot_path,\n",
        "    save_path=sim_result_path\n",
        ")"
      ]
    },
    {
      "cell_type": "markdown",
      "metadata": {
        "id": "uRyZicrmEEip"
      },
      "source": [
        "##📊 6. Analyze and Save Metrics"
      ]
    },
    {
      "cell_type": "code",
      "execution_count": null,
      "metadata": {
        "id": "Fb9AFj5rEF37"
      },
      "outputs": [],
      "source": [
        "metrics_path = \"data/outputs/snn_metrics.json\"\n",
        "\n",
        "evaluate_spikes(\n",
        "    path=sim_result_path,\n",
        "    save_path=metrics_path\n",
        ")"
      ]
    },
    {
      "cell_type": "markdown",
      "metadata": {
        "id": "o68sBMlHEHds"
      },
      "source": [
        "##📦 7. Metadata Log"
      ]
    },
    {
      "cell_type": "code",
      "execution_count": null,
      "metadata": {
        "id": "323su8TPEKNj"
      },
      "outputs": [],
      "source": [
        "meta = {\n",
        "    \"model_id\": embedder.model_id,\n",
        "    \"vector_dim\": embeddings.shape[1],\n",
        "    \"n_sequences\": len(sequences),\n",
        "    \"fasta_source\": fasta_path,\n",
        "    \"rate_max_hz\": encoder.rate_max_hz,\n",
        "    \"duration_ms\": snn_duration_ms\n",
        "}\n",
        "\n",
        "with open(\"data/outputs/meta.json\", \"w\") as f:\n",
        "    import json\n",
        "    json.dump(meta, f, indent=4)\n",
        "\n",
        "print(\"✅ Pipeline metadata saved to data/outputs/meta.json\")"
      ]
    },
    {
      "cell_type": "markdown",
      "metadata": {
        "id": "U8ezE5epQiEZ"
      },
      "source": [
        "# Visualize SNN Activity"
      ]
    },
    {
      "cell_type": "code",
      "execution_count": null,
      "metadata": {
        "id": "-orCTZe_QkDo"
      },
      "outputs": [],
      "source": [
        "import numpy as np\n",
        "import matplotlib.pyplot as plt\n",
        "from mpl_toolkits.mplot3d import Axes3D\n",
        "from matplotlib.animation import FuncAnimation\n",
        "import os\n",
        "\n",
        "# 📥 Load simulation data\n",
        "sim_data = np.load(\"data/outputs/snn_sim_results.npz\")\n",
        "spike_times = sim_data[\"spike_times\"]\n",
        "spike_indices = sim_data[\"spike_indices\"]\n",
        "\n",
        "# 🔭 Optional 3D Spike Raster Plot\n",
        "fig = plt.figure(figsize=(10, 6))\n",
        "ax = fig.add_subplot(111, projection='3d')\n",
        "\n",
        "ax.scatter(spike_times, spike_indices, zs=0, zdir='z', s=2, c=spike_indices, cmap='plasma')\n",
        "ax.set_xlabel('Time (ms)')\n",
        "ax.set_ylabel('Neuron ID')\n",
        "ax.set_zlabel('Depth (for visual separation)')\n",
        "ax.set_title(\"3D Spike Raster Plot\")\n",
        "\n",
        "plt.tight_layout()\n",
        "plt.savefig(\"data/outputs/snn_spike_plot_3d.png\", dpi=300)\n",
        "plt.close()\n",
        "print(\"🖼️ 3D spike raster saved to: data/outputs/snn_spike_plot_3d.png\")"
      ]
    },
    {
      "cell_type": "markdown",
      "metadata": {
        "id": "ehNXU7PmQwMa"
      },
      "source": [
        "##🎞️ Optional: Animate Spike Activity Over Time"
      ]
    },
    {
      "cell_type": "code",
      "execution_count": null,
      "metadata": {
        "id": "ctgw-8QPQx-o"
      },
      "outputs": [],
      "source": [
        "import matplotlib.pyplot as plt\n",
        "from matplotlib.animation import FuncAnimation\n",
        "\n",
        "# 🧠 Prepare data for animation\n",
        "time_window = 1  # ms\n",
        "max_time = int(np.max(spike_times)) + 1\n",
        "frame_interval = 20  # ms\n",
        "\n",
        "frames = int(max_time / time_window)\n",
        "\n",
        "fig, ax = plt.subplots(figsize=(10, 4))\n",
        "ax.set_xlim(0, max_time)\n",
        "ax.set_ylim(0, np.max(spike_indices) + 10)\n",
        "ax.set_xlabel(\"Time (ms)\")\n",
        "ax.set_ylabel(\"Neuron ID\")\n",
        "ax.set_title(\"Spiking Activity Over Time\")\n",
        "\n",
        "scat = ax.scatter([], [], s=3, c='red')\n",
        "\n",
        "def update(frame):\n",
        "    t_start = frame * time_window\n",
        "    t_end = t_start + time_window\n",
        "    mask = (spike_times >= t_start) & (spike_times < t_end)\n",
        "    scat.set_offsets(np.column_stack((spike_times[mask], spike_indices[mask])))\n",
        "    return scat,\n",
        "\n",
        "ani = FuncAnimation(fig, update, frames=frames, interval=frame_interval, blit=True)\n",
        "ani.save(\"data/outputs/visual_spikes.gif\", writer=\"pillow\", fps=15)\n",
        "plt.close()\n",
        "\n",
        "print(\"🎬 Animated spike activity saved to: data/outputs/visual_spikes.gif\")"
      ]
    }
  ],
  "metadata": {
    "colab": {
      "provenance": []
    },
    "kernelspec": {
      "display_name": "Python 3",
      "name": "python3"
    },
    "language_info": {
      "name": "python"
    }
  },
  "nbformat": 4,
  "nbformat_minor": 0
}
