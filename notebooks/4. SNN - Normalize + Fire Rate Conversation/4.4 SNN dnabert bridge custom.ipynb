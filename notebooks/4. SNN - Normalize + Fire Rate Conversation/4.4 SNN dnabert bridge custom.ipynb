{
  "cells": [
    {
      "cell_type": "markdown",
      "metadata": {
        "id": "VXrn2kyrBRwj"
      },
      "source": [
        "#✅ How the brian_model.py Module Works\n",
        "\n",
        "##🧬 1. Input: Spike Trains\n",
        "The module loads binary spike matrices from .npy files.\n",
        "\n",
        "Shape: [timesteps, neurons]\n",
        "\n",
        "These are generated in Story 3 using your DNABERT-based Poisson spike encoder.\n",
        "\n",
        "##⚡ 2. Brian2 Setup\n",
        "Creates a PoissonGroup or a SpikeGeneratorGroup depending on input format.\n",
        "\n",
        "Defines LIF neurons (NeuronGroup) using differential equations for voltage.\n",
        "\n",
        "Synapses connect inputs to outputs. If STDP is enabled, plasticity rules apply.\n",
        "\n",
        "##🧪 3. Run the Simulation\n",
        "Runs simulation for a specified time (e.g. 100 ms).\n",
        "\n",
        "Monitors:\n",
        "\n",
        "- Spike times\n",
        "\n",
        "- Membrane voltages (voltage traces)\n",
        "\n",
        "- Synaptic weights (if using STDP)\n",
        "\n",
        "##📊 4. Output Files\n",
        "\n",
        "After simulation, it saves:\n",
        "- outputs/snn_spike_plot.png\tRaster plot of spikes over time\n",
        "- outputs/snn_voltage_trace.png\tMembrane voltage for a few neurons\n",
        "- outputs/snn_results.npz\t.npz with spikes, voltages, weights\n",
        "\n",
        "#🧠 Summary: What This Module Adds\n",
        "- ✅ Brings Time + Voltage to Genomic Embeddings\n",
        "- ✅ Compatible with STDP and unsupervised learning\n",
        "- ✅ Real neuro-inspired coding — not just math!\n",
        "- ✅ Modular and ready for downstream comparison with ML pipelines"
      ]
    },
    {
      "cell_type": "code",
      "execution_count": null,
      "metadata": {
        "id": "wgrWC0C4CVwd"
      },
      "outputs": [],
      "source": [
        "!pip install brian2\n",
        "from brian2 import *\n",
        "import numpy as np\n",
        "import matplotlib.pyplot as plt\n",
        "import os"
      ]
    },
    {
      "cell_type": "code",
      "execution_count": null,
      "metadata": {
        "id": "_GvQm3m1C9Ae"
      },
      "outputs": [],
      "source": [
        "from src.snn_custom.brian_model import run_brian2_simulation\n",
        "run_brian2_simulation()"
      ]
    },
    {
      "cell_type": "code",
      "execution_count": null,
      "metadata": {
        "id": "fa7kqQaJC3gm"
      },
      "outputs": [],
      "source": [
        "results = np.load(\"outputs/snn_sim_results.npz\", allow_pickle=True)\n",
        "print(\"Spike times:\", results[\"spike_times\"])\n",
        "print(\"Membrane potentials shape:\", results[\"voltages\"].shape)"
      ]
    }
  ],
  "metadata": {
    "colab": {
      "provenance": []
    },
    "kernelspec": {
      "display_name": "Python 3",
      "name": "python3"
    },
    "language_info": {
      "name": "python"
    }
  },
  "nbformat": 4,
  "nbformat_minor": 0
}
