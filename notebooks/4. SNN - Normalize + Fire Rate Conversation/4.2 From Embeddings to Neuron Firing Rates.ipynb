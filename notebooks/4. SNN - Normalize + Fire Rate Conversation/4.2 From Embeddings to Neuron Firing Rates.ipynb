{
  "cells": [
    {
      "cell_type": "markdown",
      "metadata": {
        "id": "WRddK3Tgxtss"
      },
      "source": [
        "# 🧠 NeuroGenAI | From Embeddings to Neuron Firing Rates\n",
        "## 🌟 Why this matters:\n",
        "Transformers like DNABERT output powerful semantic embeddings. But to simulate how neurons might process this information, we need to map these dense vectors into biological firing rates.\n",
        "\n",
        "## This notebook is the neural bridge:\n",
        "\n",
        "### Embedding → Firing Rate → Spikes → SNN\n",
        "\n",
        "Let’s simulate the brain’s language of electricity."
      ]
    },
    {
      "cell_type": "markdown",
      "metadata": {
        "id": "dZgqcT43x5uy"
      },
      "source": [
        "## 🔧 Step 1: Setup & Imports"
      ]
    },
    {
      "cell_type": "code",
      "execution_count": null,
      "metadata": {
        "id": "ChHacH-0wLVy"
      },
      "outputs": [],
      "source": [
        "import os\n",
        "import numpy as np\n",
        "import json\n",
        "import matplotlib.pyplot as plt\n",
        "from sklearn.preprocessing import MinMaxScaler\n",
        "from pathlib import Path\n",
        "\n",
        "from src.snn.spike_encoder import SpikeEncoder  # Custom class we wrote"
      ]
    },
    {
      "cell_type": "markdown",
      "metadata": {
        "id": "wCTtS6H2x6xZ"
      },
      "source": [
        "## 📥 Step 2: Load DNABERT Embeddings"
      ]
    },
    {
      "cell_type": "code",
      "execution_count": null,
      "metadata": {
        "colab": {
          "base_uri": "https://localhost:8080/"
        },
        "id": "NqeDNkZcx8pA",
        "outputId": "a880ac58-cf86-410d-839b-8baa6ac8e04e"
      },
      "outputs": [],
      "source": [
        "# Load vectors previously created by the DNABERT notebook\n",
        "embedding_path = \"data/processed/fasta_dnabert_embeddings.npy\"\n",
        "embeddings = np.load(embedding_path)\n",
        "\n",
        "print(f\"✅ Loaded embeddings shape: {embeddings.shape}\")"
      ]
    },
    {
      "cell_type": "markdown",
      "metadata": {
        "id": "roPRG7Orx_l0"
      },
      "source": [
        "### 🔎 Curious Fact:\n",
        "DNABERT outputs 768-dimensional vectors — one per sequence — much like how a brain might encode signals using patterns of activation."
      ]
    },
    {
      "cell_type": "markdown",
      "metadata": {
        "id": "WkdkJ2CGyBFd"
      },
      "source": [
        "##⚙️ Step 3: Normalize & Map to Firing Rates\n",
        "\n",
        "We’ll use a MinMaxScaler to bring values into a [0, 1] range, and then scale them into a biologically-plausible firing rate domain (e.g., 0–120 Hz).\n",
        "\n",
        "####🧠 What are firing rates?\n",
        "In neuroscience, the firing rate of a neuron is how many times it fires (spikes) per second — this is measured in Hertz (Hz)."
      ]
    },
    {
      "cell_type": "code",
      "execution_count": null,
      "metadata": {
        "colab": {
          "base_uri": "https://localhost:8080/"
        },
        "id": "255u7y7jyEY5",
        "outputId": "5f08f9a3-cdc6-4f4e-9919-e80d5130c1f5"
      },
      "outputs": [],
      "source": [
        "encoder = SpikeEncoder(rate_max_hz=120, stdp_ready=True)\n",
        "rate_matrix = encoder.encode_and_save(\n",
        "    embeddings,\n",
        "    output_dir=\"data/processed\",\n",
        "    prefix=\"dnabert\",\n",
        ")"
      ]
    },
    {
      "cell_type": "markdown",
      "metadata": {
        "id": "pUvYw5a2yRb2"
      },
      "source": [
        "## 📊 Step 4: Visualize Top Neuron Activity\n",
        "\n",
        "This gives you an overview of how active your \"neurons\" are across sequences. A bell curve means balanced activity."
      ]
    },
    {
      "cell_type": "code",
      "execution_count": null,
      "metadata": {
        "colab": {
          "base_uri": "https://localhost:8080/",
          "height": 507
        },
        "id": "bHdSSvgUyN1Y",
        "outputId": "f3d65b8c-bfb0-451d-cb59-bfddd63106f5"
      },
      "outputs": [],
      "source": [
        "encoder.plot_firing_histogram(rate_matrix, title=\"DNABERT Neuron Firing Rates\")"
      ]
    },
    {
      "cell_type": "markdown",
      "metadata": {
        "id": "VkhXzoaRyWL3"
      },
      "source": [
        "## 📁 Step 5: Save Metadata Log"
      ]
    },
    {
      "cell_type": "code",
      "execution_count": null,
      "metadata": {
        "colab": {
          "base_uri": "https://localhost:8080/"
        },
        "id": "EEjVjIL7yXDA",
        "outputId": "e34a2e41-2b6d-4ef1-eb2f-b5f543f4eba4"
      },
      "outputs": [],
      "source": [
        "metadata = {\n",
        "    \"input_shape\": embeddings.shape,\n",
        "    \"rate_max_hz\": encoder.rate_max_hz,\n",
        "    \"normalized\": True,\n",
        "    \"output\": \"data/processed/dnabert_rate_vectors.npy\"\n",
        "}\n",
        "\n",
        "os.makedirs(\"outputs\", exist_ok=True)\n",
        "with open(\"outputs/firing_metadata.json\", \"w\") as f:\n",
        "    json.dump(metadata, f, indent=4)\n",
        "\n",
        "print(\"✅ Saved metadata to outputs/firing_metadata.json\")"
      ]
    }
  ],
  "metadata": {
    "colab": {
      "provenance": []
    },
    "kernelspec": {
      "display_name": "Python 3",
      "language": "python",
      "name": "python3"
    },
    "language_info": {
      "name": "python",
      "version": "3.13.3"
    }
  },
  "nbformat": 4,
  "nbformat_minor": 0
}
