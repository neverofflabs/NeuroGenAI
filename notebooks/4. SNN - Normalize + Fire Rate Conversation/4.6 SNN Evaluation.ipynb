{
  "nbformat": 4,
  "nbformat_minor": 0,
  "metadata": {
    "colab": {
      "provenance": []
    },
    "kernelspec": {
      "name": "python3",
      "display_name": "Python 3"
    },
    "language_info": {
      "name": "python"
    }
  },
  "cells": [
    {
      "cell_type": "markdown",
      "source": [
        "# 🧠 NeuroGenAI | Story 5: SNN Evaluation Metrics\n",
        "# Analyze spike train outputs to extract meaningful neuro-behavioral patterns"
      ],
      "metadata": {
        "id": "PDzNByDFMHz2"
      }
    },
    {
      "cell_type": "code",
      "source": [
        "import os\n",
        "import json\n",
        "import numpy as np\n",
        "import matplotlib.pyplot as plt\n",
        "from scipy.stats import entropy"
      ],
      "metadata": {
        "id": "IwRvOsAWMFBC"
      },
      "execution_count": 1,
      "outputs": []
    },
    {
      "cell_type": "markdown",
      "source": [
        "# 📁 Load spike simulation results"
      ],
      "metadata": {
        "id": "5QUsb02ZMZ2i"
      }
    },
    {
      "cell_type": "code",
      "execution_count": null,
      "metadata": {
        "id": "0x-NXWh0L2Sp"
      },
      "outputs": [],
      "source": [
        "results_path = \"outputs/snn_sim_results.npz\"\n",
        "assert os.path.exists(results_path), f\"Spike results not found at {results_path}\"\n",
        "data = np.load(results_path)\n",
        "\n",
        "spike_times = data[\"spike_times\"]  # in ms\n",
        "spike_indices = data[\"spike_indices\"]  # neuron ids\n",
        "voltages = data[\"voltages\"]  # shape: [neurons, timesteps]\n",
        "print(f\"✅ Loaded spike data: {len(spike_indices)} total spikes\")"
      ]
    },
    {
      "cell_type": "markdown",
      "source": [
        "# 📊 Count spikes per neuron"
      ],
      "metadata": {
        "id": "QsHGevjwMcKL"
      }
    },
    {
      "cell_type": "code",
      "source": [
        "n_neurons = voltages.shape[0]\n",
        "spike_counts = np.bincount(spike_indices, minlength=n_neurons)\n",
        "\n",
        "# 🌟 Calculate firing rate histogram\n",
        "plt.figure(figsize=(10, 5))\n",
        "plt.hist(spike_counts, bins=30, color=\"skyblue\", edgecolor=\"black\")\n",
        "plt.title(\"Firing Rate Distribution (Spikes per Neuron)\")\n",
        "plt.xlabel(\"Spike Count\")\n",
        "plt.ylabel(\"# of Neurons\")\n",
        "os.makedirs(\"outputs\", exist_ok=True)\n",
        "plt.savefig(\"outputs/snn_firing_rate_hist.png\")\n",
        "print(\"📊 Saved firing rate histogram to outputs/snn_firing_rate_hist.png\")"
      ],
      "metadata": {
        "id": "PBqLV4AzMO9S"
      },
      "execution_count": null,
      "outputs": []
    },
    {
      "cell_type": "markdown",
      "source": [
        "# 🔢 Entropy: Diversity of firing"
      ],
      "metadata": {
        "id": "YEn3sZLZMeNS"
      }
    },
    {
      "cell_type": "code",
      "source": [
        "p_distribution = spike_counts / spike_counts.sum()\n",
        "neuro_entropy = float(entropy(p_distribution, base=2))"
      ],
      "metadata": {
        "id": "sPgQJk2WMTZy"
      },
      "execution_count": 5,
      "outputs": []
    },
    {
      "cell_type": "markdown",
      "source": [
        "# ⚖️ Gini coefficient for spiking imbalance"
      ],
      "metadata": {
        "id": "Aruwh4vhMgSC"
      }
    },
    {
      "cell_type": "code",
      "source": [
        "def gini(x):\n",
        "    x = np.sort(x)\n",
        "    n = len(x)\n",
        "    index = np.arange(1, n+1)\n",
        "    return (2 * np.sum(index * x) / (n * np.sum(x))) - ((n + 1) / n)\n",
        "\n",
        "neuro_gini = float(gini(spike_counts))"
      ],
      "metadata": {
        "id": "ywMffSoSMVjG"
      },
      "execution_count": 6,
      "outputs": []
    },
    {
      "cell_type": "markdown",
      "source": [
        "# 💾 Save JSON metrics"
      ],
      "metadata": {
        "id": "vJQ2hJS_Mhtq"
      }
    },
    {
      "cell_type": "code",
      "source": [
        "metrics = {\n",
        "    \"total_spikes\": int(len(spike_indices)),\n",
        "    \"neurons\": int(n_neurons),\n",
        "    \"mean_firing_rate\": float(np.mean(spike_counts)),\n",
        "    \"max_firing_rate\": int(np.max(spike_counts)),\n",
        "    \"entropy\": neuro_entropy,\n",
        "    \"gini\": neuro_gini\n",
        "}\n",
        "\n",
        "with open(\"outputs/snn_metrics.json\", \"w\") as f:\n",
        "    json.dump(metrics, f, indent=4)\n",
        "\n",
        "print(\"✅ Saved SNN evaluation metrics to outputs/snn_metrics.json\")"
      ],
      "metadata": {
        "id": "fgtdQuTcMXZ2"
      },
      "execution_count": null,
      "outputs": []
    }
  ]
}