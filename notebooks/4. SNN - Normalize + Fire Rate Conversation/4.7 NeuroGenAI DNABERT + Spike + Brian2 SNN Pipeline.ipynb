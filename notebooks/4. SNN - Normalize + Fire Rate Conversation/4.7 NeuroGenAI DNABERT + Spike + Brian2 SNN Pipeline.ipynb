{
  "nbformat": 4,
  "nbformat_minor": 0,
  "metadata": {
    "colab": {
      "provenance": []
    },
    "kernelspec": {
      "name": "python3",
      "display_name": "Python 3"
    },
    "language_info": {
      "name": "python"
    }
  },
  "cells": [
    {
      "cell_type": "markdown",
      "source": [
        "# 🧬 NeuroGenAI: DNABERT ➝ Spike ➝ Brian2 SNN Pipeline\n",
        "\n",
        "## 📎 Source: NCBI FASTA, Hugging Face DNABERT, Brian2 Spiking Model"
      ],
      "metadata": {
        "id": "JaggPE2XPa5F"
      }
    },
    {
      "cell_type": "markdown",
      "source": [
        "## 1. Setup & Imports"
      ],
      "metadata": {
        "id": "hbgN2AqIPe9V"
      }
    },
    {
      "cell_type": "code",
      "execution_count": null,
      "metadata": {
        "id": "NfNjJCefPTNI"
      },
      "outputs": [],
      "source": [
        "!pip install brian2\n",
        "import os\n",
        "import json\n",
        "import numpy as np\n",
        "import pandas as pd\n",
        "import matplotlib.pyplot as plt\n",
        "from pathlib import Path\n",
        "\n",
        "from src.nlp.dna_embedding_model import DNAEmbedder\n",
        "from src.snn.spike_encoder import SpikeEncoder\n",
        "from src.snn.brian_model import run_brian2_simulation\n",
        "from src.eval.snn_metrics import evaluate_spikes"
      ]
    },
    {
      "cell_type": "markdown",
      "source": [
        "## 2. Load & Prepare Sequences"
      ],
      "metadata": {
        "id": "29QZBLk4PnN6"
      }
    },
    {
      "cell_type": "code",
      "source": [
        "fasta_path = \"data/processed/human_fasta_clean.csv\"\n",
        "df = pd.read_csv(fasta_path)\n",
        "df = df[df['Length'] >= 30].head(100)\n",
        "sequences = df[\"Sequence\"].tolist()"
      ],
      "metadata": {
        "id": "Iy4Efoj6PmRR"
      },
      "execution_count": 5,
      "outputs": []
    },
    {
      "cell_type": "markdown",
      "source": [
        "## 3. DNABERT Embedding"
      ],
      "metadata": {
        "id": "ABmxgYIrPtzW"
      }
    },
    {
      "cell_type": "code",
      "source": [
        "embedder = DNAEmbedder(model_id=\"armheb/DNA_bert_6\", k=6)\n",
        "embeddings = embedder.embed_batch(sequences)\n",
        "np.save(\"data/processed/fasta_dnabert_embeddings.npy\", embeddings)"
      ],
      "metadata": {
        "id": "Qtjo3JhZP2S6"
      },
      "execution_count": null,
      "outputs": []
    },
    {
      "cell_type": "markdown",
      "source": [
        "## 4. Normalize + Firing Rates"
      ],
      "metadata": {
        "id": "YoZkhilGP-JX"
      }
    },
    {
      "cell_type": "code",
      "source": [
        "encoder = SpikeEncoder(rate_max_hz=120)\n",
        "norm_rates = encoder.normalize_embeddings(embeddings)\n",
        "firing_rates = encoder.to_firing_rates(norm_rates)\n",
        "np.save(\"data/processed/firing_rates.npy\", firing_rates)"
      ],
      "metadata": {
        "id": "N7p7abzoP-uS"
      },
      "execution_count": null,
      "outputs": []
    },
    {
      "cell_type": "markdown",
      "source": [
        "## 5. Generate Poisson Spike Trains"
      ],
      "metadata": {
        "id": "-0ilrf4FQGhx"
      }
    },
    {
      "cell_type": "code",
      "source": [
        "embedding_path = \"data/processed/fasta_dnabert_embeddings.npy\"\n",
        "embeddings = np.load(embedding_path)\n",
        "encoder = SpikeEncoder(\n",
        "    rate_max_hz=120,\n",
        "    duration_ms=500,\n",
        "    dt_ms=1.0,\n",
        "    stdp_ready=False,\n",
        "    seed=42\n",
        ")\n",
        "firing_rates = encoder.encode_and_save(\n",
        "    embeddings=embeddings,\n",
        "    output_dir= \"data/processed\",\n",
        "    prefix=\"dnabert\"\n",
        ")\n",
        "spike_train = encoder.generate_poisson_spike_train(\n",
        "    firing_rates=firing_rates,\n",
        "    save_path=\"data/processed/spike_train.npy\"\n",
        ")"
      ],
      "metadata": {
        "id": "2TOOnoz0QHGm"
      },
      "execution_count": null,
      "outputs": []
    },
    {
      "cell_type": "markdown",
      "source": [
        "## 6. Simulate SNN in Brian2"
      ],
      "metadata": {
        "id": "h3RX_DG0QKUB"
      }
    },
    {
      "cell_type": "code",
      "source": [
        "spike_matrix = np.load(\"data/processed/spike_train.npy\")\n",
        "\n",
        "M, spikes, neurons = run_brian2_simulation(\n",
        "    spike_matrix=spike_matrix,\n",
        "    duration_ms=100,\n",
        "    syn_weight=0.3,\n",
        "    stdp=True  # enable learning!\n",
        ")"
      ],
      "metadata": {
        "id": "Vz96QQnzQL9-"
      },
      "execution_count": null,
      "outputs": []
    },
    {
      "cell_type": "markdown",
      "source": [
        "# 7. Evaluate SNN Activity"
      ],
      "metadata": {
        "id": "er4GyltiQX6n"
      }
    },
    {
      "cell_type": "code",
      "source": [
        "evaluate_spikes(\n",
        "    path=\"outputs/snn_sim_results.npz\",\n",
        "    save_path=\"outputs/snn_metrics.json\"\n",
        ")"
      ],
      "metadata": {
        "id": "VOZr49fYQYQX"
      },
      "execution_count": null,
      "outputs": []
    },
    {
      "cell_type": "markdown",
      "source": [
        "# 8. Export Logs"
      ],
      "metadata": {
        "id": "rasUudLvQd9n"
      }
    },
    {
      "cell_type": "code",
      "source": [
        "meta = {\n",
        "    \"model_id\": embedder.model_id,\n",
        "    \"vector_dim\": embeddings.shape[1],\n",
        "    \"n_sequences\": len(sequences),\n",
        "    \"fasta_source\": fasta_path,\n",
        "    \"rate_max_hz\": encoder.rate_max_hz,\n",
        "    \"duration_ms\": 100,\n",
        "    \"huggingface_model\": f\"https://huggingface.co/{embedder.model_id}\"\n",
        "}\n",
        "with open(\"data/outputs/embedding_info.json\", \"w\") as f:\n",
        "    json.dump(meta, f, indent=4)\n",
        "\n",
        "print(\"\\n✅ Full SNN Pipeline Executed: DNABERT ➝ Spike ➝ SNN ➝ Metrics\")"
      ],
      "metadata": {
        "id": "TsPpWKryQeYK"
      },
      "execution_count": null,
      "outputs": []
    }
  ]
}