{
 "cells": [
  {
   "cell_type": "code",
   "execution_count": 1,
   "id": "87412b99",
   "metadata": {},
   "outputs": [],
   "source": [
    "import sys\n",
    "from pathlib import Path\n",
    "\n",
    "project_root = Path().resolve().parents[1]\n",
    "src_path = project_root / \"src\"\n",
    "if str(src_path) not in sys.path:\n",
    "    sys.path.append(str(src_path))\n",
    "\n",
    "from snn.spike_encoder import SpikeEncoder"
   ]
  },
  {
   "cell_type": "code",
   "execution_count": null,
   "id": "f5c4b50c",
   "metadata": {},
   "outputs": [],
   "source": [
    "encoder = SpikeEncoder(rate_max_hz=120)\n",
    "rates = encoder.encode_and_save(\"data/processed/fasta_dnabert_embeddings.npy\")"
   ]
  }
 ],
 "metadata": {
  "kernelspec": {
   "display_name": "Python 3",
   "language": "python",
   "name": "python3"
  },
  "language_info": {
   "codemirror_mode": {
    "name": "ipython",
    "version": 3
   },
   "file_extension": ".py",
   "mimetype": "text/x-python",
   "name": "python",
   "nbconvert_exporter": "python",
   "pygments_lexer": "ipython3",
   "version": "3.13.3"
  }
 },
 "nbformat": 4,
 "nbformat_minor": 5
}
