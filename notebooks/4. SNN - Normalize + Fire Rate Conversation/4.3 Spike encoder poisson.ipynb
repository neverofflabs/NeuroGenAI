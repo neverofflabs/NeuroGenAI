{
  "nbformat": 4,
  "nbformat_minor": 0,
  "metadata": {
    "colab": {
      "provenance": []
    },
    "kernelspec": {
      "name": "python3",
      "display_name": "Python 3"
    },
    "language_info": {
      "name": "python"
    }
  },
  "cells": [
    {
      "cell_type": "markdown",
      "source": [
        "# 🧠 NeuroGenAI | Spike Train Generation from DNABERT Embeddings\n",
        "# Story 3: Convert semantic embeddings into biologically plausible spikes\n",
        "\n",
        "## 🧬 1. Imports and Setup"
      ],
      "metadata": {
        "id": "l7szD2Dg6l6N"
      }
    },
    {
      "cell_type": "markdown",
      "source": [
        "#📘 Markdown Cells to Add in the Notebook\n",
        "##❓ What are Poisson Spike Trains?\n",
        "Poisson spike trains simulate the natural firing behavior of neurons, where spikes occur with a given probability over time. In our case, we convert normalized DNABERT vector values into spike probabilities per neuron.\n",
        "\n",
        "##🔍 Why Convert DNABERT to Spikes?\n",
        "Spiking Neural Networks (SNNs) process information in discrete time steps using binary events (spikes), unlike traditional ML models. This transformation is crucial to use powerful biological computing simulators like Brian2.\n",
        "\n",
        "##🔥 What’s Cool Here?\n",
        "Every neuron has a max firing rate (Hz) and spikes based on it probabilistically.\n",
        "\n",
        "Time series shape: [timesteps, neurons].\n",
        "\n",
        "Enables time-aware biological modeling from language models like DNABERT.\n",
        "\n",
        "##✅ Output Artifacts\n",
        "data/processed/dnabert_rate_vectors.npy – Normalized firing rates\n",
        "data/processed/spike_train.npy – Poisson spike train (binary 0/1)\n",
        "outputs/spike_train_preview.png – Spike raster plot visualization"
      ],
      "metadata": {
        "id": "7T-27oFc8Z5q"
      }
    },
    {
      "cell_type": "code",
      "execution_count": null,
      "metadata": {
        "id": "06Lhckcb55un"
      },
      "outputs": [],
      "source": [
        "import numpy as np\n",
        "import matplotlib.pyplot as plt\n",
        "from pathlib import Path\n",
        "import sys\n",
        "\n",
        "from src.snn.spike_encoder import SpikeEncoder\n",
        "\n",
        "print(\"✅ Environment ready!\")"
      ]
    },
    {
      "cell_type": "markdown",
      "source": [
        "## 📥 2. Load Embeddings from DNABERT\n",
        "# These were generated in Story 1 and saved as .npy file"
      ],
      "metadata": {
        "id": "0KYms0-E66Te"
      }
    },
    {
      "cell_type": "code",
      "source": [
        "embedding_path = \"data/processed/fasta_dnabert_embeddings.npy\"\n",
        "embeddings = np.load(embedding_path)\n",
        "\n",
        "print(\"✅ Loaded DNABERT embeddings with shape:\", embeddings.shape)"
      ],
      "metadata": {
        "id": "Tkvff34U678f"
      },
      "execution_count": null,
      "outputs": []
    },
    {
      "cell_type": "markdown",
      "source": [
        "## ⚙️ 3. Initialize SpikeEncoder\n",
        "\n",
        "### rate_max_hz: peak neuron firing rate\n",
        "### duration_ms: total simulation time\n",
        "### dt_ms: simulation timestep\n",
        "### stdp_ready: if True, retains rate history for later use\n",
        "### seed: for reproducibility of spikes"
      ],
      "metadata": {
        "id": "PhCfKWrZ7L6H"
      }
    },
    {
      "cell_type": "code",
      "source": [
        "encoder = SpikeEncoder(\n",
        "    rate_max_hz=120,\n",
        "    duration_ms=500,\n",
        "    dt_ms=1.0,\n",
        "    stdp_ready=False,\n",
        "    seed=42\n",
        ")\n",
        "\n",
        "print(\"🧠 SpikeEncoder initialized with:\")\n",
        "print(f\"   Max Rate: {encoder.rate_max_hz} Hz | Duration: {encoder.duration_ms} ms | dt: {encoder.dt_ms} ms\")"
      ],
      "metadata": {
        "id": "534O82j17SZf"
      },
      "execution_count": null,
      "outputs": []
    },
    {
      "cell_type": "markdown",
      "source": [
        "## 🔁 4. Normalize and Convert to Firing Rates"
      ],
      "metadata": {
        "id": "TNfQPRqp7VvN"
      }
    },
    {
      "cell_type": "code",
      "source": [
        "firing_rates = encoder.encode_and_save(\n",
        "    embeddings=embeddings,\n",
        "    output_dir= \"data/processed\",\n",
        "    prefix=\"dnabert\"\n",
        ")\n",
        "\n",
        "print(\"✅ Firing rate matrix shape:\", firing_rates.shape)"
      ],
      "metadata": {
        "id": "KTKf2NAB7WQu"
      },
      "execution_count": null,
      "outputs": []
    },
    {
      "cell_type": "markdown",
      "source": [
        "## ⚡ 5. Generate Poisson Spike Train (binary spikes over time)"
      ],
      "metadata": {
        "id": "tTPWs3C67bta"
      }
    },
    {
      "cell_type": "code",
      "source": [
        "spike_train = encoder.generate_poisson_spike_train(\n",
        "    firing_rates=firing_rates,\n",
        "    save_path=\"data/processed/spike_train.npy\"\n",
        ")\n",
        "\n",
        "print(\"✅ Spike train shape (timesteps, neurons):\", spike_train.shape)"
      ],
      "metadata": {
        "id": "9631Jzp77cRI"
      },
      "execution_count": null,
      "outputs": []
    },
    {
      "cell_type": "markdown",
      "source": [
        "## 🎯 6. Visualize Spike Raster Plot"
      ],
      "metadata": {
        "id": "xt_1480p7iJS"
      }
    },
    {
      "cell_type": "code",
      "source": [
        "encoder.plot_raster(\n",
        "    spike_train,\n",
        "    save_path=\"outputs/spike_train_preview.png\"\n",
        ")\n",
        "\n",
        "print(\"📊 Raster plot saved for visual inspection.\")"
      ],
      "metadata": {
        "id": "hMHKTUUC7iqL"
      },
      "execution_count": null,
      "outputs": []
    }
  ]
}