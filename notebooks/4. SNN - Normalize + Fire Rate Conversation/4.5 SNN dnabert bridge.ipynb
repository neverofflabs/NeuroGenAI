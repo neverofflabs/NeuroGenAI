{
  "nbformat": 4,
  "nbformat_minor": 0,
  "metadata": {
    "colab": {
      "provenance": []
    },
    "kernelspec": {
      "name": "python3",
      "display_name": "Python 3"
    },
    "language_info": {
      "name": "python"
    }
  },
  "cells": [
    {
      "cell_type": "markdown",
      "source": [
        "#✅ How the brian_model.py Module Works\n",
        "\n",
        "##🧬 1. Input: Spike Trains\n",
        "The module loads binary spike matrices from .npy files.\n",
        "\n",
        "Shape: [timesteps, neurons]\n",
        "\n",
        "These are generated in Story 3 using your DNABERT-based Poisson spike encoder.\n",
        "\n",
        "##⚡ 2. Brian2 Setup\n",
        "Creates a PoissonGroup or a SpikeGeneratorGroup depending on input format.\n",
        "\n",
        "Defines LIF neurons (NeuronGroup) using differential equations for voltage.\n",
        "\n",
        "Synapses connect inputs to outputs. If STDP is enabled, plasticity rules apply.\n",
        "\n",
        "##🧪 3. Run the Simulation\n",
        "Runs simulation for a specified time (e.g. 100 ms).\n",
        "\n",
        "Monitors:\n",
        "\n",
        "- Spike times\n",
        "\n",
        "- Membrane voltages (voltage traces)\n",
        "\n",
        "- Synaptic weights (if using STDP)\n",
        "\n",
        "##📊 4. Output Files\n",
        "\n",
        "After simulation, it saves:\n",
        "- outputs/snn_spike_plot.png\tRaster plot of spikes over time\n",
        "- outputs/snn_voltage_trace.png\tMembrane voltage for a few neurons\n",
        "- outputs/snn_results.npz\t.npz with spikes, voltages, weights\n",
        "\n",
        "#🧠 Summary: What This Module Adds\n",
        "- ✅ Brings Time + Voltage to Genomic Embeddings\n",
        "- ✅ Compatible with STDP and unsupervised learning\n",
        "- ✅ Real neuro-inspired coding — not just math!\n",
        "- ✅ Modular and ready for downstream comparison with ML pipelines"
      ],
      "metadata": {
        "id": "VXrn2kyrBRwj"
      }
    },
    {
      "cell_type": "code",
      "source": [
        "!pip install brian2\n",
        "from brian2 import *\n",
        "import numpy as np\n",
        "import matplotlib.pyplot as plt\n",
        "import os"
      ],
      "metadata": {
        "id": "wgrWC0C4CVwd"
      },
      "execution_count": null,
      "outputs": []
    },
    {
      "cell_type": "code",
      "source": [
        "from src.snn.brian_model import run_brian2_simulation\n",
        "\n",
        "# Load your spike matrix\n",
        "spike_matrix = np.load(\"data/processed/spike_train.npy\")\n",
        "\n",
        "# Run a universal simulation\n",
        "M, spikes, neurons = run_brian2_simulation(\n",
        "    spike_matrix=spike_matrix,\n",
        "    duration_ms=100,\n",
        "    syn_weight=0.3,\n",
        "    stdp=True  # enable learning!\n",
        ")"
      ],
      "metadata": {
        "id": "_GvQm3m1C9Ae"
      },
      "execution_count": null,
      "outputs": []
    },
    {
      "cell_type": "code",
      "source": [
        "results = np.load(\"outputs/snn_sim_results.npz\", allow_pickle=True)\n",
        "print(\"Spike times:\", results[\"spike_times\"])\n",
        "print(\"Membrane potentials shape:\", results[\"voltages\"].shape)"
      ],
      "metadata": {
        "id": "fa7kqQaJC3gm"
      },
      "execution_count": null,
      "outputs": []
    }
  ]
}