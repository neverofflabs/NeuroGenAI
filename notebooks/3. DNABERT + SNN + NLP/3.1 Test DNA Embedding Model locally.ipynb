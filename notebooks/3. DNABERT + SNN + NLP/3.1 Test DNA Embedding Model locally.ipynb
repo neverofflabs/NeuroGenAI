{
  "cells": [
    {
      "cell_type": "markdown",
      "metadata": {
        "id": "HZqnnWlFipDi"
      },
      "source": [
        "# 🧬 Test new dna_embedding_model.py (LoRA-ready) locally"
      ]
    },
    {
      "cell_type": "code",
      "execution_count": 4,
      "metadata": {
        "colab": {
          "base_uri": "https://localhost:8080/"
        },
        "id": "veK6AtDmibgB",
        "outputId": "a097da19-64c4-4765-8372-5ee837e1d6c7"
      },
      "outputs": [
        {
          "name": "stdout",
          "output_type": "stream",
          "text": [
            "Requirement already satisfied: transformers in c:\\users\\never\\appdata\\local\\programs\\python\\python313\\lib\\site-packages (4.52.3)\n",
            "Requirement already satisfied: torch in c:\\users\\never\\appdata\\local\\programs\\python\\python313\\lib\\site-packages (2.7.0)\n",
            "Requirement already satisfied: filelock in c:\\users\\never\\appdata\\local\\programs\\python\\python313\\lib\\site-packages (from transformers) (3.18.0)\n",
            "Requirement already satisfied: huggingface-hub<1.0,>=0.30.0 in c:\\users\\never\\appdata\\local\\programs\\python\\python313\\lib\\site-packages (from transformers) (0.32.2)\n",
            "Requirement already satisfied: numpy>=1.17 in c:\\users\\never\\appdata\\local\\programs\\python\\python313\\lib\\site-packages (from transformers) (2.2.6)\n",
            "Requirement already satisfied: packaging>=20.0 in c:\\users\\never\\appdata\\local\\programs\\python\\python313\\lib\\site-packages (from transformers) (24.2)\n",
            "Requirement already satisfied: pyyaml>=5.1 in c:\\users\\never\\appdata\\local\\programs\\python\\python313\\lib\\site-packages (from transformers) (6.0.2)\n",
            "Requirement already satisfied: regex!=2019.12.17 in c:\\users\\never\\appdata\\local\\programs\\python\\python313\\lib\\site-packages (from transformers) (2024.11.6)\n",
            "Requirement already satisfied: requests in c:\\users\\never\\appdata\\local\\programs\\python\\python313\\lib\\site-packages (from transformers) (2.32.3)\n",
            "Requirement already satisfied: tokenizers<0.22,>=0.21 in c:\\users\\never\\appdata\\local\\programs\\python\\python313\\lib\\site-packages (from transformers) (0.21.1)\n",
            "Requirement already satisfied: safetensors>=0.4.3 in c:\\users\\never\\appdata\\local\\programs\\python\\python313\\lib\\site-packages (from transformers) (0.5.3)\n",
            "Requirement already satisfied: tqdm>=4.27 in c:\\users\\never\\appdata\\local\\programs\\python\\python313\\lib\\site-packages (from transformers) (4.67.1)\n",
            "Requirement already satisfied: fsspec>=2023.5.0 in c:\\users\\never\\appdata\\local\\programs\\python\\python313\\lib\\site-packages (from huggingface-hub<1.0,>=0.30.0->transformers) (2025.5.1)\n",
            "Requirement already satisfied: typing-extensions>=3.7.4.3 in c:\\users\\never\\appdata\\local\\programs\\python\\python313\\lib\\site-packages (from huggingface-hub<1.0,>=0.30.0->transformers) (4.13.2)\n",
            "Requirement already satisfied: sympy>=1.13.3 in c:\\users\\never\\appdata\\local\\programs\\python\\python313\\lib\\site-packages (from torch) (1.14.0)\n",
            "Requirement already satisfied: networkx in c:\\users\\never\\appdata\\local\\programs\\python\\python313\\lib\\site-packages (from torch) (3.4.2)\n",
            "Requirement already satisfied: jinja2 in c:\\users\\never\\appdata\\local\\programs\\python\\python313\\lib\\site-packages (from torch) (3.1.6)\n",
            "Requirement already satisfied: setuptools in c:\\users\\never\\appdata\\local\\programs\\python\\python313\\lib\\site-packages (from torch) (80.8.0)\n",
            "Requirement already satisfied: mpmath<1.4,>=1.1.0 in c:\\users\\never\\appdata\\local\\programs\\python\\python313\\lib\\site-packages (from sympy>=1.13.3->torch) (1.3.0)\n",
            "Requirement already satisfied: colorama in c:\\users\\never\\appdata\\local\\programs\\python\\python313\\lib\\site-packages (from tqdm>=4.27->transformers) (0.4.6)\n",
            "Requirement already satisfied: MarkupSafe>=2.0 in c:\\users\\never\\appdata\\local\\programs\\python\\python313\\lib\\site-packages (from jinja2->torch) (3.0.2)\n",
            "Requirement already satisfied: charset-normalizer<4,>=2 in c:\\users\\never\\appdata\\local\\programs\\python\\python313\\lib\\site-packages (from requests->transformers) (3.4.2)\n",
            "Requirement already satisfied: idna<4,>=2.5 in c:\\users\\never\\appdata\\local\\programs\\python\\python313\\lib\\site-packages (from requests->transformers) (3.10)\n",
            "Requirement already satisfied: urllib3<3,>=1.21.1 in c:\\users\\never\\appdata\\local\\programs\\python\\python313\\lib\\site-packages (from requests->transformers) (2.4.0)\n",
            "Requirement already satisfied: certifi>=2017.4.17 in c:\\users\\never\\appdata\\local\\programs\\python\\python313\\lib\\site-packages (from requests->transformers) (2025.4.26)\n"
          ]
        }
      ],
      "source": [
        "!pip install transformers torch\n",
        "\n",
        "import torch\n",
        "from transformers import AutoTokenizer, AutoModel\n",
        "import numpy as np\n",
        "import time\n",
        "\n",
        "class DNAEmbedder:\n",
        "    def __init__(self, model_id=\"armheb/DNA_bert_6\", k=6, device=None):\n",
        "        self.model_id = model_id\n",
        "        self.k = k\n",
        "        self.device = device or (\"cuda\" if torch.cuda.is_available() else \"cpu\")\n",
        "\n",
        "        print(f\"🧠 Loading model {model_id} on {self.device}...\")\n",
        "        self.tokenizer = AutoTokenizer.from_pretrained(model_id)\n",
        "        self.model = AutoModel.from_pretrained(model_id).to(self.device)\n",
        "        self.model.eval()\n",
        "\n",
        "    def tokenize(self, sequence):\n",
        "        # Convert DNA to overlapping k-mers\n",
        "        sequence = sequence.upper().replace(\" \", \"\")\n",
        "        tokens = [sequence[i:i+self.k] for i in range(len(sequence)-self.k+1)]\n",
        "        return \" \".join(tokens)\n",
        "\n",
        "    def embed(self, sequence):\n",
        "        input_text = self.tokenize(sequence)\n",
        "        inputs = self.tokenizer(input_text, return_tensors=\"pt\")\n",
        "        inputs = {k: v.to(self.device) for k, v in inputs.items()}\n",
        "\n",
        "        with torch.no_grad():\n",
        "            start = time.time()\n",
        "            output = self.model(**inputs)\n",
        "            duration = time.time() - start\n",
        "            print(f\"⚡ Embedding computed in {duration:.2f}s\")\n",
        "\n",
        "        # Average token embeddings → 768-dim vector\n",
        "        embedding = output.last_hidden_state.mean(dim=1).squeeze().cpu().numpy()\n",
        "        return embedding\n",
        "\n",
        "    def embed_batch(self, sequences):\n",
        "        vectors = [self.embed(seq) for seq in sequences]\n",
        "        return np.vstack(vectors)"
      ]
    },
    {
      "cell_type": "code",
      "execution_count": 5,
      "metadata": {
        "colab": {
          "base_uri": "https://localhost:8080/"
        },
        "id": "HH08g4Ulnbvc",
        "outputId": "71130ce6-e5f0-4786-c071-8b9efa92fb46"
      },
      "outputs": [
        {
          "name": "stdout",
          "output_type": "stream",
          "text": [
            "🧠 Loading model armheb/DNA_bert_6 on cpu...\n",
            "⚡ Embedding computed in 0.07s\n",
            "✅ Embedding shape: (768,)\n",
            "🧬 First 10 values: [-0.2573953   0.8604346  -0.33829284 -0.26517555  0.6124543  -0.14811641\n",
            "  0.2850135  -0.5794153  -0.60324174  0.52297175]\n"
          ]
        }
      ],
      "source": [
        "embedder = DNAEmbedder()  # defaults to armheb/DNA_bert_6\n",
        "\n",
        "# Example DNA sequence\n",
        "sequence = \"ACGTAGCTAGCTTGACGTTGACGTGACGATCGTACG\"\n",
        "\n",
        "# Get embedding\n",
        "embedding = embedder.embed(sequence)\n",
        "\n",
        "print(\"✅ Embedding shape:\", embedding.shape)\n",
        "print(\"🧬 First 10 values:\", embedding[:10])"
      ]
    }
  ],
  "metadata": {
    "colab": {
      "provenance": []
    },
    "kernelspec": {
      "display_name": "Python 3",
      "name": "python3"
    },
    "language_info": {
      "codemirror_mode": {
        "name": "ipython",
        "version": 3
      },
      "file_extension": ".py",
      "mimetype": "text/x-python",
      "name": "python",
      "nbconvert_exporter": "python",
      "pygments_lexer": "ipython3",
      "version": "3.13.3"
    }
  },
  "nbformat": 4,
  "nbformat_minor": 0
}
