{
  "cells": [
    {
      "cell_type": "markdown",
      "metadata": {
        "id": "HZqnnWlFipDi"
      },
      "source": [
        "# 🧬 Test new dna_embedding_model.py (LoRA-ready) locally"
      ]
    },
    {
      "cell_type": "code",
      "execution_count": null,
      "metadata": {
        "colab": {
          "base_uri": "https://localhost:8080/"
        },
        "id": "veK6AtDmibgB",
        "outputId": "a097da19-64c4-4765-8372-5ee837e1d6c7"
      },
      "outputs": [],
      "source": [
        "!pip install transformers torch\n",
        "\n",
        "import torch\n",
        "from transformers import AutoTokenizer, AutoModel\n",
        "import numpy as np\n",
        "import time\n",
        "\n",
        "class DNAEmbedder:\n",
        "    def __init__(self, model_id=\"armheb/DNA_bert_6\", k=6, device=None):\n",
        "        self.model_id = model_id\n",
        "        self.k = k\n",
        "        self.device = device or (\"cuda\" if torch.cuda.is_available() else \"cpu\")\n",
        "\n",
        "        print(f\"🧠 Loading model {model_id} on {self.device}...\")\n",
        "        self.tokenizer = AutoTokenizer.from_pretrained(model_id)\n",
        "        self.model = AutoModel.from_pretrained(model_id).to(self.device)\n",
        "        self.model.eval()\n",
        "\n",
        "    def tokenize(self, sequence):\n",
        "        # Convert DNA to overlapping k-mers\n",
        "        sequence = sequence.upper().replace(\" \", \"\")\n",
        "        tokens = [sequence[i:i+self.k] for i in range(len(sequence)-self.k+1)]\n",
        "        return \" \".join(tokens)\n",
        "\n",
        "    def embed(self, sequence):\n",
        "        input_text = self.tokenize(sequence)\n",
        "        inputs = self.tokenizer(input_text, return_tensors=\"pt\")\n",
        "        inputs = {k: v.to(self.device) for k, v in inputs.items()}\n",
        "\n",
        "        with torch.no_grad():\n",
        "            start = time.time()\n",
        "            output = self.model(**inputs)\n",
        "            duration = time.time() - start\n",
        "            print(f\"⚡ Embedding computed in {duration:.2f}s\")\n",
        "\n",
        "        # Average token embeddings → 768-dim vector\n",
        "        embedding = output.last_hidden_state.mean(dim=1).squeeze().cpu().numpy()\n",
        "        return embedding\n",
        "\n",
        "    def embed_batch(self, sequences):\n",
        "        vectors = [self.embed(seq) for seq in sequences]\n",
        "        return np.vstack(vectors)"
      ]
    },
    {
      "cell_type": "code",
      "execution_count": null,
      "metadata": {
        "colab": {
          "base_uri": "https://localhost:8080/"
        },
        "id": "HH08g4Ulnbvc",
        "outputId": "71130ce6-e5f0-4786-c071-8b9efa92fb46"
      },
      "outputs": [],
      "source": [
        "embedder = DNAEmbedder()  # defaults to armheb/DNA_bert_6\n",
        "\n",
        "# Example DNA sequence\n",
        "sequence = \"ACGTAGCTAGCTTGACGTTGACGTGACGATCGTACG\"\n",
        "\n",
        "# Get embedding\n",
        "embedding = embedder.embed(sequence)\n",
        "\n",
        "print(\"✅ Embedding shape:\", embedding.shape)\n",
        "print(\"🧬 First 10 values:\", embedding[:10])"
      ]
    }
  ],
  "metadata": {
    "colab": {
      "provenance": []
    },
    "kernelspec": {
      "display_name": "Python 3",
      "name": "python3"
    },
    "language_info": {
      "codemirror_mode": {
        "name": "ipython",
        "version": 3
      },
      "file_extension": ".py",
      "mimetype": "text/x-python",
      "name": "python",
      "nbconvert_exporter": "python",
      "pygments_lexer": "ipython3",
      "version": "3.13.3"
    }
  },
  "nbformat": 4,
  "nbformat_minor": 0
}
