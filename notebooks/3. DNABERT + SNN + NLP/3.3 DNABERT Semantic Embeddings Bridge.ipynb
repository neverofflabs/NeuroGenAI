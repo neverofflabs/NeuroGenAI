{
  "cells": [
    {
      "cell_type": "markdown",
      "metadata": {
        "id": "ng_8Tvgcvp4M"
      },
      "source": [
        "# 🧬 NeuroGenAI | DNABERT Semantic Embeddings Bridge\n",
        "### What is DNABERT?\n",
        "#### DNABERT is a transformer-based model pre-trained on genomic sequences using k-mer tokenization. Like BERT for language, it captures semantic patterns in DNA.\n",
        "\n",
        "### Why k-mer Encoding?\n",
        "#### DNA is tokenized into overlapping sequences (e.g., \"ACGTGA\"). This allows the model to learn motifs and structures.\n",
        "\n",
        "### Why LoRA / QLoRA?\n",
        "#### PEFT methods like LoRA enable fast, low-resource fine-tuning. Great for adapting DNABERT to specific genomes or classification tasks."
      ]
    },
    {
      "cell_type": "markdown",
      "metadata": {
        "id": "k0_Y_gT5vq-F"
      },
      "source": [
        "## 🔧 Setup & Imports"
      ]
    },
    {
      "cell_type": "code",
      "execution_count": 1,
      "metadata": {
        "id": "9djSLLYXu3ux"
      },
      "outputs": [],
      "source": [
        "import os\n",
        "import json\n",
        "import numpy as np\n",
        "import pandas as pd\n",
        "from pathlib import Path\n",
        "\n",
        "# Add src path\n",
        "import sys\n",
        "src_path = Path().resolve().parents[1] / \"src\"\n",
        "if str(src_path) not in sys.path:\n",
        "    sys.path.append(str(src_path))\n",
        "\n",
        "from nlp.dna_embedding_model import DNAEmbedder"
      ]
    },
    {
      "cell_type": "markdown",
      "metadata": {
        "id": "9dAR0Gihvt1r"
      },
      "source": [
        "## 📥 Load Clean FASTA Sequences"
      ]
    },
    {
      "cell_type": "code",
      "execution_count": null,
      "metadata": {
        "id": "2RDxxL_nu-St"
      },
      "outputs": [],
      "source": [
        "# Load cleaned FASTA sequences\n",
        "fasta_path = \"data/processed/human_fasta_clean.csv\"\n",
        "df = pd.read_csv(fasta_path)\n",
        "\n",
        "# For test: use only first N\n",
        "df = df[df['Length'] >= 30].head(100)  # Change as needed\n",
        "print(f\"✅ Loaded {len(df)} sequences.\")"
      ]
    },
    {
      "cell_type": "markdown",
      "metadata": {
        "id": "HmEHrNrYvw6M"
      },
      "source": [
        "## 🧠 Initialize DNABERT Embedding Engine"
      ]
    },
    {
      "cell_type": "code",
      "execution_count": null,
      "metadata": {
        "id": "KRh1swpQvAGD"
      },
      "outputs": [],
      "source": [
        "embedder = DNAEmbedder(model_id=\"armheb/DNA_bert_6\", k=6)"
      ]
    },
    {
      "cell_type": "markdown",
      "metadata": {
        "id": "vaZeRwucvyy0"
      },
      "source": [
        "## 💾 Save Embeddings as .npy"
      ]
    },
    {
      "cell_type": "code",
      "execution_count": null,
      "metadata": {
        "id": "5xZDEqglvEV0"
      },
      "outputs": [],
      "source": [
        "# Extract sequences\n",
        "sequences = df[\"Sequence\"].tolist()\n",
        "\n",
        "# Embed all\n",
        "embeddings = embedder.embed_batch(sequences)\n",
        "print(\"✅ Final embedding shape:\", embeddings.shape)\n",
        "\n",
        "# Save as .npy\n",
        "os.makedirs(\"data/processed\", exist_ok=True)\n",
        "np.save(\"data/processed/fasta_dnabert_embeddings.npy\", embeddings)\n",
        "print(\"📁 Saved to: data/processed/fasta_dnabert_embeddings.npy\")"
      ]
    },
    {
      "cell_type": "markdown",
      "metadata": {
        "id": "ySfZpxabv1TD"
      },
      "source": [
        "## 🧾 Log Embedding Metadata"
      ]
    },
    {
      "cell_type": "code",
      "execution_count": null,
      "metadata": {
        "id": "O_O-DIvFvHZb"
      },
      "outputs": [],
      "source": [
        "# Save metadata for reproducibility\n",
        "meta = {\n",
        "    \"model_id\": embedder.model_id,\n",
        "    \"vector_dim\": embeddings.shape[1],\n",
        "    \"sequence_count\": embeddings.shape[0],\n",
        "    \"source_fasta\": fasta_path,\n",
        "    \"kmer_size\": embedder.k,\n",
        "    \"device\": embedder.device,\n",
        "    \"huggingface_url\": f\"https://huggingface.co/{embedder.model_id}\"\n",
        "}\n",
        "\n",
        "with open(\"data/outputs/3. DNABERT + SNN + NLP/embedding_info.json\", \"w\") as f:\n",
        "    json.dump(meta, f, indent=4)\n",
        "\n",
        "print(\"✅ Metadata saved to: data/outputs/3. DNABERT + SNN + NLP/embedding_info.json\")"
      ]
    }
  ],
  "metadata": {
    "colab": {
      "provenance": []
    },
    "kernelspec": {
      "display_name": "Python 3",
      "name": "python3"
    },
    "language_info": {
      "codemirror_mode": {
        "name": "ipython",
        "version": 3
      },
      "file_extension": ".py",
      "mimetype": "text/x-python",
      "name": "python",
      "nbconvert_exporter": "python",
      "pygments_lexer": "ipython3",
      "version": "3.13.3"
    }
  },
  "nbformat": 4,
  "nbformat_minor": 0
}
