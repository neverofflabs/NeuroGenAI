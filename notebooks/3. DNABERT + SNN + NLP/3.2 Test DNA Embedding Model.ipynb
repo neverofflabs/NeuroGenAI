{
 "cells": [
  {
   "cell_type": "markdown",
   "id": "964b87c5",
   "metadata": {},
   "source": [
    "# 🧬 Test new dna_embedding_model.py (LoRA-ready) with module"
   ]
  },
  {
   "cell_type": "code",
   "execution_count": 6,
   "id": "7928ab21",
   "metadata": {},
   "outputs": [],
   "source": [
    "import sys\n",
    "from pathlib import Path\n",
    "\n",
    "project_root = Path().resolve().parents[1]\n",
    "src_path = project_root / \"src\"\n",
    "if str(src_path) not in sys.path:\n",
    "    sys.path.append(str(src_path))\n",
    "\n",
    "from nlp.dna_embedding_model import DNAEmbedder\n"
   ]
  },
  {
   "cell_type": "code",
   "execution_count": null,
   "id": "ceaa1f47",
   "metadata": {},
   "outputs": [],
   "source": [
    "# 🔬 Example DNA\n",
    "sequence = \"ACGTAGCTAGCTTGACGTTGACGTGACGATCGTACG\"\n",
    "\n",
    "embedder = DNAEmbedder()\n",
    "vector = embedder.embed(sequence)\n",
    "embedding = embedder.embed(sequence)\n",
    "\n",
    "print(\"✅ Embedding shape:\", embedding.shape)  # Should be (768,)\n",
    "print(\"🧬 First 10 values:\", embedding[:10])"
   ]
  }
 ],
 "metadata": {
  "kernelspec": {
   "display_name": "Python 3",
   "language": "python",
   "name": "python3"
  },
  "language_info": {
   "codemirror_mode": {
    "name": "ipython",
    "version": 3
   },
   "file_extension": ".py",
   "mimetype": "text/x-python",
   "name": "python",
   "nbconvert_exporter": "python",
   "pygments_lexer": "ipython3",
   "version": "3.13.3"
  }
 },
 "nbformat": 4,
 "nbformat_minor": 5
}
