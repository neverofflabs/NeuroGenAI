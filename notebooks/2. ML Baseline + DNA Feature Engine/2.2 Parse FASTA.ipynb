{
  "cells": [
    {
      "cell_type": "markdown",
      "metadata": {
        "id": "5J5PCc8k0-gc"
      },
      "source": [
        "# 🧬 Parse FASTA\n",
        "## 📌 Why This Dataset?\n",
        "\n",
        "We're using:\n",
        "- 📌 [human.1.rna.fna.gz](https://ftp.ncbi.nlm.nih.gov/refseq/H_sapiens/mRNA_Prot/) from the RefSeq database\n",
        "- 📚 RefSeq is maintained by NCBI and widely used in publications\n",
        "- 🧬 The .rna.fna files contain transcribed RNA sequences from human genes — used\n",
        "in protein synthesis, gene function analysis, and genome mapping"
      ]
    },
    {
      "cell_type": "markdown",
      "metadata": {
        "id": "H_8M2u4a17qM"
      },
      "source": [
        "### 🔍 Why NCBI RefSeq FASTA?\n",
        "\n",
        "The RefSeq FASTA dataset is a curated, non-redundant source of **transcribed gene sequences** for Homo sapiens.  \n",
        "It’s widely used in:\n",
        "- Transcriptomics\n",
        "- Functional annotation\n",
        "- Deep learning on genomics\n",
        "\n",
        "By limiting to `human.1.rna.fna`, we start small while using **data from published research pipelines**.\n",
        "\n",
        "✅ Filtered out sequences < 20bp  \n",
        "✅ Created previews for easier inspection and feature design"
      ]
    },
    {
      "cell_type": "code",
      "execution_count": null,
      "metadata": {
        "colab": {
          "base_uri": "https://localhost:8080/"
        },
        "id": "QXO5QTJH9T1d",
        "outputId": "100187b1-ab4c-46d6-add4-8afdfa84902b"
      },
      "outputs": [],
      "source": [
        "!wget -O data/raw/human_rna.fna.gz https://ftp.ncbi.nlm.nih.gov/refseq/H_sapiens/mRNA_Prot/human.1.rna.fna.gz\n",
        "!gunzip -f data/raw/human_rna.fna.gz\n",
        "\n",
        "# 🧬 Install dependencies\n",
        "!pip install biopython\n",
        "\n",
        "# ✅ Imports\n",
        "import os\n",
        "import pandas as pd\n",
        "from Bio import SeqIO"
      ]
    },
    {
      "cell_type": "code",
      "execution_count": null,
      "metadata": {},
      "outputs": [],
      "source": [
        "def strip_fasta_comments(input_path, output_path):\n",
        "    \"\"\"\n",
        "    Removes any comment lines (e.g. starting with '#', ';', or '!') before the first '>' in FASTA.\n",
        "    \"\"\"\n",
        "    with open(input_path, 'r') as infile, open(output_path, 'w') as outfile:\n",
        "        write = False\n",
        "        for line in infile:\n",
        "            if line.startswith('>'):\n",
        "                write = True  # Start writing after first valid sequence entry\n",
        "            if write:\n",
        "                outfile.write(line)\n",
        "\n",
        "# Clean and save new version\n",
        "strip_fasta_comments(\"data/raw/human_rna.fna\", \"data/processed/human_rna_cleaned.fna\")"
      ]
    },
    {
      "cell_type": "code",
      "execution_count": null,
      "metadata": {
        "colab": {
          "base_uri": "https://localhost:8080/",
          "height": 504
        },
        "id": "_yeIMbAe-eFd",
        "outputId": "7577a0a0-6670-4195-912e-0755192a9237"
      },
      "outputs": [],
      "source": [
        "def parse_fasta_to_df(filepath, max_len=200):\n",
        "    records = []\n",
        "    for record in SeqIO.parse(filepath, \"fasta\"):\n",
        "        if len(record.seq) < 20:\n",
        "            continue\n",
        "        records.append({\n",
        "            \"ID\": record.id,\n",
        "            \"Description\": record.description,\n",
        "            \"Sequence\": str(record.seq),\n",
        "            \"Length\": len(record.seq),\n",
        "            \"Preview\": str(record.seq[:max_len]) + (\"...\" if len(record.seq) > max_len else \"\")\n",
        "        })\n",
        "    df = pd.DataFrame(records)\n",
        "    print(f\"✅ Parsed {len(df)} gene sequences.\")\n",
        "    return df\n",
        "\n",
        "# Parse cleaned version\n",
        "fasta_df = parse_fasta_to_df(\"data/processed/human_rna_cleaned.fna\")\n",
        "fasta_df.head()"
      ]
    },
    {
      "cell_type": "code",
      "execution_count": null,
      "metadata": {
        "colab": {
          "base_uri": "https://localhost:8080/"
        },
        "id": "anjkzrOs-oCm",
        "outputId": "66336b46-14bb-4f2b-e456-338ea11fad84"
      },
      "outputs": [],
      "source": [
        "fasta_df.to_csv(\"data/processed/human_fasta_clean.csv\", index=False)\n",
        "print(\"📁 Saved parsed FASTA to: data/processed/human_fasta_clean.csv\")"
      ]
    }
  ],
  "metadata": {
    "colab": {
      "provenance": []
    },
    "kernelspec": {
      "display_name": "Python 3",
      "name": "python3"
    },
    "language_info": {
      "name": "python"
    }
  },
  "nbformat": 4,
  "nbformat_minor": 0
}
