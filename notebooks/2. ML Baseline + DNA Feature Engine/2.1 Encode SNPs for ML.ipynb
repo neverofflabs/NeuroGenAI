{
  "cells": [
    {
      "cell_type": "markdown",
      "metadata": {
        "id": "g1vT_mfi9ixQ"
      },
      "source": [
        "# Encode SNPs for ML\n",
        "- Distinguish homozygous (like AA, GG) from heterozygous (like AG, CT)\n",
        "- Remove ambiguous/no call entries (like \"--\" or any invalid genotype)\n",
        "- Create a wide binary/categorical feature representation (e.g., rs12345_AA = 1, rs12345_AG = 0, etc.)\n"
      ]
    },
    {
      "cell_type": "markdown",
      "metadata": {
        "id": "bqqJluDN9lFb"
      },
      "source": [
        "## Fix the file loading\n",
        "Parse the CSV with correct column headers and separation."
      ]
    },
    {
      "cell_type": "code",
      "execution_count": null,
      "metadata": {
        "id": "OC6x3wkJ8pOg"
      },
      "outputs": [],
      "source": [
        "import pandas as pd"
      ]
    },
    {
      "cell_type": "code",
      "execution_count": 4,
      "metadata": {
        "id": "HcIT3yP_85eR"
      },
      "outputs": [],
      "source": [
        "def load_and_clean_dna(filepath):\n",
        "    # Proper parsing\n",
        "    df = pd.read_csv(filepath, comment='#', sep=',')\n",
        "\n",
        "    # Drop rows with any missing values or ambiguous calls like '--'\n",
        "    df.columns = df.columns.str.strip()  # remove extra spaces from headers\n",
        "    df = df.dropna()\n",
        "    df = df[df['RESULT'].apply(lambda x: len(str(x)) == 2 and set(str(x)).issubset({'A', 'T', 'C', 'G'}))]\n",
        "\n",
        "    print(\"✅ Cleaned SNP data:\", df.shape)\n",
        "    return df.reset_index(drop=True)"
      ]
    },
    {
      "cell_type": "code",
      "execution_count": null,
      "metadata": {
        "colab": {
          "base_uri": "https://localhost:8080/",
          "height": 258
        },
        "id": "cbZyRyL588Cs",
        "outputId": "35c8d2b7-6f93-4d1f-bc59-3ad302ba7510"
      },
      "outputs": [],
      "source": [
        "df = load_and_clean_dna(\"data/raw/MyHeritage_raw_dna_data.csv\")\n",
        "df.head()"
      ]
    },
    {
      "cell_type": "markdown",
      "metadata": {
        "id": "GHroYHWM-A2a"
      },
      "source": [
        "## Encode SNPs (Wide format)\n",
        "Encode each SNP as its own column like rs1234_AA, rs1234_AG, etc.\n",
        "\n",
        "I. Binary presence (1) for the observed genotype\n",
        "\n",
        "II. Multi-hot encoding or use numeric like:\n",
        "- 1 = Homozygous (e.g., AA, GG)\n",
        "- 0.5 = Heterozygous (e.g., AG, CT)"
      ]
    },
    {
      "cell_type": "markdown",
      "metadata": {
        "id": "n-X09S8S-0er"
      },
      "source": [
        "### Wide binary (one-hot per genotype)"
      ]
    },
    {
      "cell_type": "code",
      "execution_count": 8,
      "metadata": {
        "id": "E41uyEHt-irz"
      },
      "outputs": [],
      "source": [
        "def wide_one_hot_encoding(df):\n",
        "    df['RESULT'] = df['RESULT'].astype(str)\n",
        "    df['RSID'] = df['RSID'].astype(str)\n",
        "\n",
        "    df['GENO_KEY'] = df['RSID'] + '_' + df['RESULT']\n",
        "    df['VALUE'] = 1\n",
        "\n",
        "    wide_df = df[['GENO_KEY', 'VALUE']].set_index('GENO_KEY').T\n",
        "    print(\"✅ Encoded shape (wide format):\", wide_df.shape)\n",
        "    return wide_df"
      ]
    },
    {
      "cell_type": "code",
      "execution_count": null,
      "metadata": {
        "colab": {
          "base_uri": "https://localhost:8080/"
        },
        "id": "TOsiU_pJ-6Wp",
        "outputId": "5f77e0c4-f568-441e-c1bd-6ea10a3b69a7"
      },
      "outputs": [],
      "source": [
        "wide_encoded_df = wide_one_hot_encoding(df)"
      ]
    },
    {
      "cell_type": "markdown",
      "metadata": {
        "id": "85KPg-HG-9gx"
      },
      "source": [
        "### Numeric encoding (1 for homozygous, 0.5 for heterozygous)"
      ]
    },
    {
      "cell_type": "code",
      "execution_count": 10,
      "metadata": {
        "id": "1TEHeVai_B8J"
      },
      "outputs": [],
      "source": [
        "def encode_genotype_numeric(df):\n",
        "    def encode_geno(gt):\n",
        "        return 1.0 if gt[0] == gt[1] else 0.5\n",
        "\n",
        "    df['ENCODED'] = df['RESULT'].apply(encode_geno)\n",
        "    numeric_df = df[['RSID', 'ENCODED']].drop_duplicates().set_index('RSID').T\n",
        "    print(\"✅ Encoded shape (numeric):\", numeric_df.shape)\n",
        "    return numeric_df"
      ]
    },
    {
      "cell_type": "code",
      "execution_count": null,
      "metadata": {
        "colab": {
          "base_uri": "https://localhost:8080/"
        },
        "id": "yl81MOhY_Fo8",
        "outputId": "b4cd8f85-cdb5-4fb0-ddce-957b24615e37"
      },
      "outputs": [],
      "source": [
        "numeric_encoded_df = encode_genotype_numeric(df)"
      ]
    },
    {
      "cell_type": "markdown",
      "metadata": {
        "id": "4tBUJp2JAVdb"
      },
      "source": [
        "# Normalize RSIDs, Chromosomes, and Positions\n",
        "- Remove quotes from all fields (e.g., \"1\" → 1)\n",
        "- Ensure RSID, CHROMOSOME, POSITION, and RESULT are in clean, properly typed columns\n",
        "- Remove whitespace, fix datatypes"
      ]
    },
    {
      "cell_type": "markdown",
      "metadata": {
        "id": "74kY76uKAeZ5"
      },
      "source": [
        "## Normalize SNP Identifiers\n"
      ]
    },
    {
      "cell_type": "code",
      "execution_count": 12,
      "metadata": {
        "id": "jVUueYdkBD0h"
      },
      "outputs": [],
      "source": [
        "def normalize_snp_fields(df):\n",
        "    # Strip quotes and whitespace\n",
        "    df['RSID'] = df['RSID'].str.strip().str.replace('\"', '', regex=False)\n",
        "    df['CHROMOSOME'] = df['CHROMOSOME'].astype(str).str.strip().str.replace('\"', '', regex=False)\n",
        "    df['POSITION'] = df['POSITION'].astype(str).str.strip().str.replace('\"', '', regex=False)\n",
        "    df['RESULT'] = df['RESULT'].astype(str).str.strip().str.replace('\"', '', regex=False)\n",
        "\n",
        "    # Cast POSITION to integer\n",
        "    df['POSITION'] = df['POSITION'].astype(int)\n",
        "\n",
        "    print(\"✅ Normalized SNP data\")\n",
        "    print(df.head())\n",
        "    return df"
      ]
    },
    {
      "cell_type": "code",
      "execution_count": null,
      "metadata": {
        "colab": {
          "base_uri": "https://localhost:8080/"
        },
        "id": "8HTlvqrDBGQH",
        "outputId": "e81c3505-8176-424b-cf4a-c79061c195c1"
      },
      "outputs": [],
      "source": [
        "df_normalized = normalize_snp_fields(df)"
      ]
    },
    {
      "cell_type": "code",
      "execution_count": null,
      "metadata": {
        "colab": {
          "base_uri": "https://localhost:8080/"
        },
        "id": "QWfIzDvBBQJY",
        "outputId": "12823e90-906a-4b02-9408-c01b3cde1fde"
      },
      "outputs": [],
      "source": [
        "print(df_normalized.dtypes)"
      ]
    },
    {
      "cell_type": "markdown",
      "metadata": {
        "id": "bc-ec6hHB6eN"
      },
      "source": [
        "## Save Clean SNP Data"
      ]
    },
    {
      "cell_type": "code",
      "execution_count": null,
      "metadata": {
        "colab": {
          "base_uri": "https://localhost:8080/"
        },
        "id": "TTA_Q_MuB-XR",
        "outputId": "9d952d6f-a47e-47c4-b7be-e6dc8d170c3a"
      },
      "outputs": [],
      "source": [
        "# Create output folder if needed\n",
        "import os\n",
        "os.makedirs(\"data\", exist_ok=True)\n",
        "\n",
        "# Save clean SNP data\n",
        "df_normalized.to_csv(\"data/processed/personal_snp_clean.csv\", index=False)\n",
        "print(\"📁 Saved to: data/processed/personal_snp_clean.csv\")"
      ]
    },
    {
      "cell_type": "code",
      "execution_count": null,
      "metadata": {
        "colab": {
          "base_uri": "https://localhost:8080/"
        },
        "id": "a9S5_O3b5xm2",
        "outputId": "b30f92be-dea5-4fea-9dd8-f68597d6cc32"
      },
      "outputs": [],
      "source": [
        "wide_encoded_df.to_csv(\"data/processed/personal_snp_onehot.csv\")\n",
        "print(\"📁 Saved one-hot encoded SNPs to: data/processed/personal_snp_onehot.csv\")"
      ]
    },
    {
      "cell_type": "code",
      "execution_count": null,
      "metadata": {
        "colab": {
          "base_uri": "https://localhost:8080/"
        },
        "id": "OrCVSVej5zpt",
        "outputId": "4addd47b-b3c9-471d-b56b-03b598220a41"
      },
      "outputs": [],
      "source": [
        "numeric_encoded_df.to_csv(\"data/processed/personal_snp_numeric.csv\")\n",
        "print(\"📁 Saved numeric SNP encoding to: data/processed/personal_snp_numeric.csv\")"
      ]
    }
  ],
  "metadata": {
    "colab": {
      "provenance": []
    },
    "kernelspec": {
      "display_name": "venv",
      "language": "python",
      "name": "python3"
    },
    "language_info": {
      "codemirror_mode": {
        "name": "ipython",
        "version": 3
      },
      "file_extension": ".py",
      "mimetype": "text/x-python",
      "name": "python",
      "nbconvert_exporter": "python",
      "pygments_lexer": "ipython3",
      "version": "3.13.3"
    }
  },
  "nbformat": 4,
  "nbformat_minor": 0
}
