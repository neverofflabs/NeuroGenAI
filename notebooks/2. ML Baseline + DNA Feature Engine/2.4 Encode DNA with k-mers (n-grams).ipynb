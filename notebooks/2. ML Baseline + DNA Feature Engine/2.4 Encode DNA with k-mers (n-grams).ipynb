{
  "cells": [
    {
      "cell_type": "markdown",
      "metadata": {
        "id": "DCWOXyl2K0j4"
      },
      "source": [
        "# 🧬 Encode DNA with k-mers (n-grams)\n",
        "\n",
        "This notebook generates **k-mer feature vectors** from real gene sequences using BioNLP-style processing.\n",
        "\n",
        "Goal: Make sequences ML-ready by turning them into structured, vectorized form.\n"
      ]
    },
    {
      "cell_type": "code",
      "execution_count": 1,
      "metadata": {
        "id": "i5uPRq0Ua1rU"
      },
      "outputs": [],
      "source": [
        "# ✅ Imports\n",
        "import pandas as pd\n",
        "from collections import Counter\n",
        "import os"
      ]
    },
    {
      "cell_type": "code",
      "execution_count": null,
      "metadata": {
        "colab": {
          "base_uri": "https://localhost:8080/",
          "height": 224
        },
        "id": "QgAzqDD5K7wm",
        "outputId": "9024766d-a3b2-45ce-a897-a42e67c6d05d"
      },
      "outputs": [],
      "source": [
        "# Load cleaned FASTA dataset\n",
        "fasta_path = \"data/processed/human_fasta_clean.csv\"\n",
        "df = pd.read_csv(fasta_path)\n",
        "\n",
        "# Preview\n",
        "print(\"✅ Loaded:\", df.shape)\n",
        "df.head()"
      ]
    },
    {
      "cell_type": "code",
      "execution_count": 3,
      "metadata": {
        "id": "iUmg-a0KLcDd"
      },
      "outputs": [],
      "source": [
        "def generate_kmers(sequence, k=6):\n",
        "    \"\"\"Generate overlapping k-mers from DNA sequence.\"\"\"\n",
        "    return [sequence[i:i+k] for i in range(len(sequence) - k + 1)]\n",
        "\n",
        "def count_kmers(sequence, k=6):\n",
        "    \"\"\"Count frequency of each k-mer in a sequence.\"\"\"\n",
        "    kmers = generate_kmers(sequence.upper(), k)\n",
        "    return Counter(kmers)\n",
        "\n",
        "def encode_kmer_counts(sequences, k=6):\n",
        "    \"\"\"Turn list of sequences into DataFrame of k-mer frequencies.\"\"\"\n",
        "    kmer_dicts = [count_kmers(seq, k) for seq in sequences]\n",
        "    df = pd.DataFrame(kmer_dicts)\n",
        "    df.fillna(0, inplace=True)\n",
        "    print(f\"✅ Encoded {len(sequences)} sequences into matrix of shape {df.shape}\")\n",
        "    return df"
      ]
    },
    {
      "cell_type": "code",
      "execution_count": null,
      "metadata": {
        "colab": {
          "base_uri": "https://localhost:8080/",
          "height": 253
        },
        "id": "0U6lkUoGLdeH",
        "outputId": "03d36c2f-224b-40f5-c21c-6b534b6ff96c"
      },
      "outputs": [],
      "source": [
        "# Use only first 100 for now (speed)\n",
        "subset = df[\"Sequence\"].head(100)\n",
        "\n",
        "# Encode\n",
        "encoded_kmers_df = encode_kmer_counts(subset, k=6)\n",
        "\n",
        "# Preview output\n",
        "encoded_kmers_df.head()"
      ]
    },
    {
      "cell_type": "code",
      "execution_count": null,
      "metadata": {
        "colab": {
          "base_uri": "https://localhost:8080/",
          "height": 457
        },
        "id": "rcvQGW0jLhDk",
        "outputId": "5047f84e-bcd3-4d98-8e11-ba76966258a9"
      },
      "outputs": [],
      "source": [
        "# Sum all k-mers across rows and sort\n",
        "top_kmers = encoded_kmers_df.sum().sort_values(ascending=False).head(20)\n",
        "\n",
        "# Plot\n",
        "top_kmers.plot(kind=\"bar\", title=\"Top 20 Most Common 6-mers\", figsize=(10, 4))"
      ]
    },
    {
      "cell_type": "code",
      "execution_count": null,
      "metadata": {
        "colab": {
          "base_uri": "https://localhost:8080/"
        },
        "id": "o_kAs2PNLh-O",
        "outputId": "4a61fead-22b6-4e83-d7a4-b2dc40dc2600"
      },
      "outputs": [],
      "source": [
        "# Save matrix\n",
        "out_path = \"data/processed/fasta_kmer_6mer.csv\"\n",
        "encoded_kmers_df.to_csv(out_path, index=False)\n",
        "\n",
        "print(\"📁 Saved k-mer matrix to:\", out_path)"
      ]
    },
    {
      "cell_type": "markdown",
      "metadata": {
        "id": "H9XpvWjRLr4F"
      },
      "source": [
        "### ✔️ Done:\n",
        "- Extracted 6-mers from gene sequences\n",
        "- Encoded them into frequency matrices\n",
        "- Saved clean input for ML"
      ]
    }
  ],
  "metadata": {
    "colab": {
      "provenance": []
    },
    "kernelspec": {
      "display_name": "Python 3",
      "name": "python3"
    },
    "language_info": {
      "name": "python"
    }
  },
  "nbformat": 4,
  "nbformat_minor": 0
}
