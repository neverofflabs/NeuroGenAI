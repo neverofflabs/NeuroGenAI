{
 "cells": [
  {
   "cell_type": "code",
   "execution_count": 5,
   "id": "de0cffde",
   "metadata": {},
   "outputs": [],
   "source": [
    "import sys\n",
    "from pathlib import Path\n",
    "\n",
    "project_root = Path().resolve().parents[1]\n",
    "src_path = project_root / \"src\"\n",
    "if str(src_path) not in sys.path:\n",
    "    sys.path.append(str(src_path))\n",
    "\n",
    "from data import dna_data_loader\n"
   ]
  },
  {
   "cell_type": "code",
   "execution_count": null,
   "id": "a683f74b",
   "metadata": {},
   "outputs": [],
   "source": [
    "# ✅ Test SNP loader\n",
    "snp_df = dna_data_loader.load_snp_csv(\"data/processed/personal_snp_clean.csv\")\n",
    "snp_df.head()\n",
    "\n",
    "# ✅ Test FASTA loader\n",
    "fasta_df = dna_data_loader.load_fasta(\"data/processed/human_rna_cleaned.fna\")\n",
    "fasta_df.head()"
   ]
  }
 ],
 "metadata": {
  "kernelspec": {
   "display_name": "venv",
   "language": "python",
   "name": "python3"
  },
  "language_info": {
   "codemirror_mode": {
    "name": "ipython",
    "version": 3
   },
   "file_extension": ".py",
   "mimetype": "text/x-python",
   "name": "python",
   "nbconvert_exporter": "python",
   "pygments_lexer": "ipython3",
   "version": "3.13.3"
  }
 },
 "nbformat": 4,
 "nbformat_minor": 5
}
