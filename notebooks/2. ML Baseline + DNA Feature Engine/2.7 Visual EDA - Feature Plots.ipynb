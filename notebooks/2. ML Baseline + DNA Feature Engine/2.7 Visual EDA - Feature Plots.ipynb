{
  "cells": [
    {
      "cell_type": "markdown",
      "metadata": {
        "id": "BaCG6sBYbE0H"
      },
      "source": [
        "# 🎯 Visual EDA - Feature Plots"
      ]
    },
    {
      "cell_type": "markdown",
      "metadata": {
        "id": "dKjNBq8EbMDo"
      },
      "source": [
        "### 📦 Install & Import 🔧"
      ]
    },
    {
      "cell_type": "code",
      "execution_count": null,
      "metadata": {
        "colab": {
          "base_uri": "https://localhost:8080/"
        },
        "id": "BoibQy_ga8Nh",
        "outputId": "d60be799-b16f-405f-ca3b-829787eaf89a"
      },
      "outputs": [],
      "source": [
        "!pip install sweetviz pandas-profiling matplotlib seaborn numpy==1.24.4\n",
        "\n",
        "import pandas as pd\n",
        "import matplotlib.pyplot as plt\n",
        "import seaborn as sns\n",
        "import sweetviz as sv\n",
        "import os"
      ]
    },
    {
      "cell_type": "markdown",
      "metadata": {
        "id": "HIOQNcoMbpUN"
      },
      "source": [
        "### 🔍 Run Sweetviz Report"
      ]
    },
    {
      "cell_type": "code",
      "execution_count": null,
      "metadata": {
        "colab": {
          "base_uri": "https://localhost:8080/",
          "height": 84,
          "referenced_widgets": [
            "d3a6c7ea27424a46980b82fe5985ffa1",
            "5c8fdc2bcce34e3393375824aa4f7ad7",
            "3dcba1602e6149ffb021acf24df7d0c9",
            "78b3dfc02fb54003a2daaad2600d6e1b",
            "435e7d0710154301aa630c8000052bdb",
            "0a5d9981623b495b919c91fb3caad812",
            "48e26a519aa845bab2b62aa238d1daa0",
            "2e62eda9159b4a7c9f26089c7644e6f3",
            "3034dba7c51747559b3b3e6f9759f0d7",
            "d9929e36501846848d49c4f5a10979c2",
            "cf4c348b273648ba91dc05b2483d7fe2"
          ]
        },
        "id": "pAXiw1NpbVf_",
        "outputId": "0874ea21-498c-4b77-d1f5-caafcabcb25b"
      },
      "outputs": [],
      "source": [
        "# Load your FASTA dataframe\n",
        "fasta_df = pd.read_csv(\"data/processed/human_fasta_clean.csv\")\n",
        "\n",
        "# Create + save the EDA report\n",
        "report = sv.analyze(fasta_df)\n",
        "report.show_html(\"eda/fasta_eda_report.html\")\n",
        "\n",
        "print(\"✅ Sweetviz report generated → eda/fasta_eda_report.html\")"
      ]
    },
    {
      "cell_type": "markdown",
      "metadata": {
        "id": "EMnBMP05bqdO"
      },
      "source": [
        "### 📊 Then run your k-mer plots + sequence lengths"
      ]
    },
    {
      "cell_type": "code",
      "execution_count": null,
      "metadata": {
        "colab": {
          "base_uri": "https://localhost:8080/",
          "height": 594
        },
        "id": "9DZ1lk5tbtC_",
        "outputId": "113cda10-c5ea-4c0f-d44a-816603b48a6e"
      },
      "outputs": [],
      "source": [
        "# Load k-mer encoded data\n",
        "kmer_df = pd.read_csv(\"data/processed/fasta_kmer_6mer.csv\")\n",
        "\n",
        "# Plot top 20 k-mers\n",
        "kmer_sums = kmer_df.sum().sort_values(ascending=False).head(20)\n",
        "\n",
        "plt.figure(figsize=(10, 5))\n",
        "sns.barplot(x=kmer_sums.values, y=kmer_sums.index, palette=\"viridis\")\n",
        "plt.title(\"Top 20 Most Frequent 6-mers\")\n",
        "plt.xlabel(\"Frequency\")\n",
        "plt.ylabel(\"6-mer\")\n",
        "plt.tight_layout()\n",
        "plt.savefig(\"data/outputs/top_20_kmers.png\")\n",
        "plt.show()"
      ]
    },
    {
      "cell_type": "markdown",
      "metadata": {
        "id": "2A3G9y9Eb0lf"
      },
      "source": [
        "### 📏 Sequence Length Distribution"
      ]
    },
    {
      "cell_type": "code",
      "execution_count": null,
      "metadata": {
        "colab": {
          "base_uri": "https://localhost:8080/",
          "height": 407
        },
        "id": "cxiGa_vMb3l1",
        "outputId": "8b736994-7b0c-45dc-d830-965fdd4709d3"
      },
      "outputs": [],
      "source": [
        "fasta_df = pd.read_csv(\"data/processed/human_fasta_clean.csv\")\n",
        "\n",
        "plt.figure(figsize=(10, 4))\n",
        "sns.histplot(fasta_df[\"Length\"], bins=30, kde=True, color=\"skyblue\")\n",
        "plt.title(\"Distribution of Sequence Lengths\")\n",
        "plt.xlabel(\"Length (bp)\")\n",
        "plt.ylabel(\"Count\")\n",
        "plt.tight_layout()\n",
        "plt.savefig(\"data/outputs/sequence_length_distribution.png\")\n",
        "plt.show()"
      ]
    }
  ],
  "metadata": {
    "colab": {
      "provenance": []
    },
    "kernelspec": {
      "display_name": "Python 3",
      "name": "python3"
    },
    "language_info": {
      "name": "python"
    },
    "widgets": {
      "application/vnd.jupyter.widget-state+json": {
        "0a5d9981623b495b919c91fb3caad812": {
          "model_module": "@jupyter-widgets/base",
          "model_module_version": "1.2.0",
          "model_name": "LayoutModel",
          "state": {
            "_model_module": "@jupyter-widgets/base",
            "_model_module_version": "1.2.0",
            "_model_name": "LayoutModel",
            "_view_count": null,
            "_view_module": "@jupyter-widgets/base",
            "_view_module_version": "1.2.0",
            "_view_name": "LayoutView",
            "align_content": null,
            "align_items": null,
            "align_self": null,
            "border": null,
            "bottom": null,
            "display": null,
            "flex": null,
            "flex_flow": null,
            "grid_area": null,
            "grid_auto_columns": null,
            "grid_auto_flow": null,
            "grid_auto_rows": null,
            "grid_column": null,
            "grid_gap": null,
            "grid_row": null,
            "grid_template_areas": null,
            "grid_template_columns": null,
            "grid_template_rows": null,
            "height": null,
            "justify_content": null,
            "justify_items": null,
            "left": null,
            "margin": null,
            "max_height": null,
            "max_width": null,
            "min_height": null,
            "min_width": null,
            "object_fit": null,
            "object_position": null,
            "order": null,
            "overflow": null,
            "overflow_x": null,
            "overflow_y": null,
            "padding": null,
            "right": null,
            "top": null,
            "visibility": null,
            "width": null
          }
        },
        "2e62eda9159b4a7c9f26089c7644e6f3": {
          "model_module": "@jupyter-widgets/base",
          "model_module_version": "1.2.0",
          "model_name": "LayoutModel",
          "state": {
            "_model_module": "@jupyter-widgets/base",
            "_model_module_version": "1.2.0",
            "_model_name": "LayoutModel",
            "_view_count": null,
            "_view_module": "@jupyter-widgets/base",
            "_view_module_version": "1.2.0",
            "_view_name": "LayoutView",
            "align_content": null,
            "align_items": null,
            "align_self": null,
            "border": null,
            "bottom": null,
            "display": null,
            "flex": "2",
            "flex_flow": null,
            "grid_area": null,
            "grid_auto_columns": null,
            "grid_auto_flow": null,
            "grid_auto_rows": null,
            "grid_column": null,
            "grid_gap": null,
            "grid_row": null,
            "grid_template_areas": null,
            "grid_template_columns": null,
            "grid_template_rows": null,
            "height": null,
            "justify_content": null,
            "justify_items": null,
            "left": null,
            "margin": null,
            "max_height": null,
            "max_width": null,
            "min_height": null,
            "min_width": null,
            "object_fit": null,
            "object_position": null,
            "order": null,
            "overflow": null,
            "overflow_x": null,
            "overflow_y": null,
            "padding": null,
            "right": null,
            "top": null,
            "visibility": null,
            "width": null
          }
        },
        "3034dba7c51747559b3b3e6f9759f0d7": {
          "model_module": "@jupyter-widgets/controls",
          "model_module_version": "1.5.0",
          "model_name": "ProgressStyleModel",
          "state": {
            "_model_module": "@jupyter-widgets/controls",
            "_model_module_version": "1.5.0",
            "_model_name": "ProgressStyleModel",
            "_view_count": null,
            "_view_module": "@jupyter-widgets/base",
            "_view_module_version": "1.2.0",
            "_view_name": "StyleView",
            "bar_color": null,
            "description_width": ""
          }
        },
        "3dcba1602e6149ffb021acf24df7d0c9": {
          "model_module": "@jupyter-widgets/controls",
          "model_module_version": "1.5.0",
          "model_name": "FloatProgressModel",
          "state": {
            "_dom_classes": [],
            "_model_module": "@jupyter-widgets/controls",
            "_model_module_version": "1.5.0",
            "_model_name": "FloatProgressModel",
            "_view_count": null,
            "_view_module": "@jupyter-widgets/controls",
            "_view_module_version": "1.5.0",
            "_view_name": "ProgressView",
            "bar_style": "success",
            "description": "",
            "description_tooltip": null,
            "layout": "IPY_MODEL_2e62eda9159b4a7c9f26089c7644e6f3",
            "max": 1,
            "min": 0,
            "orientation": "horizontal",
            "style": "IPY_MODEL_3034dba7c51747559b3b3e6f9759f0d7",
            "value": 1
          }
        },
        "435e7d0710154301aa630c8000052bdb": {
          "model_module": "@jupyter-widgets/base",
          "model_module_version": "1.2.0",
          "model_name": "LayoutModel",
          "state": {
            "_model_module": "@jupyter-widgets/base",
            "_model_module_version": "1.2.0",
            "_model_name": "LayoutModel",
            "_view_count": null,
            "_view_module": "@jupyter-widgets/base",
            "_view_module_version": "1.2.0",
            "_view_name": "LayoutView",
            "align_content": null,
            "align_items": null,
            "align_self": null,
            "border": null,
            "bottom": null,
            "display": "inline-flex",
            "flex": null,
            "flex_flow": "row wrap",
            "grid_area": null,
            "grid_auto_columns": null,
            "grid_auto_flow": null,
            "grid_auto_rows": null,
            "grid_column": null,
            "grid_gap": null,
            "grid_row": null,
            "grid_template_areas": null,
            "grid_template_columns": null,
            "grid_template_rows": null,
            "height": null,
            "justify_content": null,
            "justify_items": null,
            "left": null,
            "margin": null,
            "max_height": null,
            "max_width": null,
            "min_height": null,
            "min_width": null,
            "object_fit": null,
            "object_position": null,
            "order": null,
            "overflow": null,
            "overflow_x": null,
            "overflow_y": null,
            "padding": null,
            "right": null,
            "top": null,
            "visibility": null,
            "width": "100%"
          }
        },
        "48e26a519aa845bab2b62aa238d1daa0": {
          "model_module": "@jupyter-widgets/controls",
          "model_module_version": "1.5.0",
          "model_name": "DescriptionStyleModel",
          "state": {
            "_model_module": "@jupyter-widgets/controls",
            "_model_module_version": "1.5.0",
            "_model_name": "DescriptionStyleModel",
            "_view_count": null,
            "_view_module": "@jupyter-widgets/base",
            "_view_module_version": "1.2.0",
            "_view_name": "StyleView",
            "description_width": ""
          }
        },
        "5c8fdc2bcce34e3393375824aa4f7ad7": {
          "model_module": "@jupyter-widgets/controls",
          "model_module_version": "1.5.0",
          "model_name": "HTMLModel",
          "state": {
            "_dom_classes": [],
            "_model_module": "@jupyter-widgets/controls",
            "_model_module_version": "1.5.0",
            "_model_name": "HTMLModel",
            "_view_count": null,
            "_view_module": "@jupyter-widgets/controls",
            "_view_module_version": "1.5.0",
            "_view_name": "HTMLView",
            "description": "",
            "description_tooltip": null,
            "layout": "IPY_MODEL_0a5d9981623b495b919c91fb3caad812",
            "placeholder": "​",
            "style": "IPY_MODEL_48e26a519aa845bab2b62aa238d1daa0",
            "value": "Done! Use &#x27;show&#x27; commands to display/save.   "
          }
        },
        "78b3dfc02fb54003a2daaad2600d6e1b": {
          "model_module": "@jupyter-widgets/controls",
          "model_module_version": "1.5.0",
          "model_name": "HTMLModel",
          "state": {
            "_dom_classes": [],
            "_model_module": "@jupyter-widgets/controls",
            "_model_module_version": "1.5.0",
            "_model_name": "HTMLModel",
            "_view_count": null,
            "_view_module": "@jupyter-widgets/controls",
            "_view_module_version": "1.5.0",
            "_view_name": "HTMLView",
            "description": "",
            "description_tooltip": null,
            "layout": "IPY_MODEL_d9929e36501846848d49c4f5a10979c2",
            "placeholder": "​",
            "style": "IPY_MODEL_cf4c348b273648ba91dc05b2483d7fe2",
            "value": " [100%]   00:00 -&gt; (00:00 left)"
          }
        },
        "cf4c348b273648ba91dc05b2483d7fe2": {
          "model_module": "@jupyter-widgets/controls",
          "model_module_version": "1.5.0",
          "model_name": "DescriptionStyleModel",
          "state": {
            "_model_module": "@jupyter-widgets/controls",
            "_model_module_version": "1.5.0",
            "_model_name": "DescriptionStyleModel",
            "_view_count": null,
            "_view_module": "@jupyter-widgets/base",
            "_view_module_version": "1.2.0",
            "_view_name": "StyleView",
            "description_width": ""
          }
        },
        "d3a6c7ea27424a46980b82fe5985ffa1": {
          "model_module": "@jupyter-widgets/controls",
          "model_module_version": "1.5.0",
          "model_name": "HBoxModel",
          "state": {
            "_dom_classes": [],
            "_model_module": "@jupyter-widgets/controls",
            "_model_module_version": "1.5.0",
            "_model_name": "HBoxModel",
            "_view_count": null,
            "_view_module": "@jupyter-widgets/controls",
            "_view_module_version": "1.5.0",
            "_view_name": "HBoxView",
            "box_style": "",
            "children": [
              "IPY_MODEL_5c8fdc2bcce34e3393375824aa4f7ad7",
              "IPY_MODEL_3dcba1602e6149ffb021acf24df7d0c9",
              "IPY_MODEL_78b3dfc02fb54003a2daaad2600d6e1b"
            ],
            "layout": "IPY_MODEL_435e7d0710154301aa630c8000052bdb"
          }
        },
        "d9929e36501846848d49c4f5a10979c2": {
          "model_module": "@jupyter-widgets/base",
          "model_module_version": "1.2.0",
          "model_name": "LayoutModel",
          "state": {
            "_model_module": "@jupyter-widgets/base",
            "_model_module_version": "1.2.0",
            "_model_name": "LayoutModel",
            "_view_count": null,
            "_view_module": "@jupyter-widgets/base",
            "_view_module_version": "1.2.0",
            "_view_name": "LayoutView",
            "align_content": null,
            "align_items": null,
            "align_self": null,
            "border": null,
            "bottom": null,
            "display": null,
            "flex": null,
            "flex_flow": null,
            "grid_area": null,
            "grid_auto_columns": null,
            "grid_auto_flow": null,
            "grid_auto_rows": null,
            "grid_column": null,
            "grid_gap": null,
            "grid_row": null,
            "grid_template_areas": null,
            "grid_template_columns": null,
            "grid_template_rows": null,
            "height": null,
            "justify_content": null,
            "justify_items": null,
            "left": null,
            "margin": null,
            "max_height": null,
            "max_width": null,
            "min_height": null,
            "min_width": null,
            "object_fit": null,
            "object_position": null,
            "order": null,
            "overflow": null,
            "overflow_x": null,
            "overflow_y": null,
            "padding": null,
            "right": null,
            "top": null,
            "visibility": null,
            "width": null
          }
        }
      }
    }
  },
  "nbformat": 4,
  "nbformat_minor": 0
}
