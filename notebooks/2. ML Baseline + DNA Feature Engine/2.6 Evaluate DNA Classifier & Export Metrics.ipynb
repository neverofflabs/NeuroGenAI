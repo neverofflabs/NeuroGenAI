{
  "cells": [
    {
      "cell_type": "markdown",
      "metadata": {
        "id": "yL1SMMp5VcIw"
      },
      "source": [
        "# 🧬 Evaluate DNA Classifier & Export Metrics\n",
        "\n",
        "### 📊 Evaluation of trained DNA classifier"
      ]
    },
    {
      "cell_type": "markdown",
      "metadata": {
        "id": "bXMcgc19Vn2V"
      },
      "source": [
        "### 📦 Install & Import 🔧"
      ]
    },
    {
      "cell_type": "code",
      "execution_count": null,
      "metadata": {
        "colab": {
          "base_uri": "https://localhost:8080/"
        },
        "id": "RK81zB9xU15_",
        "outputId": "7762c73a-ea79-42b3-8c0f-a308d12d6f92"
      },
      "outputs": [],
      "source": [
        "!pip install scikit-learn matplotlib seaborn\n",
        "\n",
        "import pandas as pd\n",
        "import numpy as np\n",
        "import joblib\n",
        "import os\n",
        "import json\n",
        "import seaborn as sns\n",
        "import matplotlib.pyplot as plt\n",
        "from sklearn.metrics import classification_report, confusion_matrix"
      ]
    },
    {
      "cell_type": "markdown",
      "metadata": {
        "id": "DUsL3S3xVsze"
      },
      "source": [
        "### 📥 Load Model & Data"
      ]
    },
    {
      "cell_type": "code",
      "execution_count": null,
      "metadata": {
        "id": "8hozZJV4VsJO"
      },
      "outputs": [],
      "source": [
        "# Load model & label encoder\n",
        "model = joblib.load(\"src/ml/xgboost_dna_classifier.pkl\")\n",
        "le = joblib.load(\"src/ml/label_encoder.pkl\")\n",
        "\n",
        "# Load data\n",
        "df = pd.read_csv(\"data/processed/fasta_kmer_6mer.csv\")\n",
        "# 🔁 Recreate fake 3-class labels for testing (same logic from training)\n",
        "df[\"label\"] = [i % 3 for i in range(len(df))]\n",
        "\n",
        "# Split\n",
        "X = df.drop(columns=[\"label\"])\n",
        "y_true = le.transform(df[\"label\"])  # label-encoded targets"
      ]
    },
    {
      "cell_type": "markdown",
      "metadata": {
        "id": "tFsjEv1rVwD9"
      },
      "source": [
        "### 🎯 Predict & Report"
      ]
    },
    {
      "cell_type": "code",
      "execution_count": null,
      "metadata": {
        "colab": {
          "base_uri": "https://localhost:8080/",
          "height": 255
        },
        "id": "sYkkaprjVxy1",
        "outputId": "a05c6bd4-194c-462d-b550-f51eed2ec635"
      },
      "outputs": [],
      "source": [
        "y_pred = model.predict(X)\n",
        "\n",
        "# Full report\n",
        "report = classification_report(y_true, y_pred, target_names=le.classes_, output_dict=True)\n",
        "df_report = pd.DataFrame(report).transpose()\n",
        "\n",
        "# Show\n",
        "print(\"📈 Classification Report:\")\n",
        "display(df_report)"
      ]
    },
    {
      "cell_type": "markdown",
      "metadata": {
        "id": "tIj3caJ8V0HV"
      },
      "source": [
        "### 💾 Save Report to CSV & JSON"
      ]
    },
    {
      "cell_type": "code",
      "execution_count": null,
      "metadata": {
        "colab": {
          "base_uri": "https://localhost:8080/"
        },
        "id": "wwMegK5sV1Rt",
        "outputId": "9ceef05f-be04-4b04-d669-86bb0e67c6b6"
      },
      "outputs": [],
      "source": [
        "os.makedirs(\"outputs\", exist_ok=True)\n",
        "\n",
        "df_report.to_csv(\"data/outputs/classification_report.csv\")\n",
        "\n",
        "cleaned_report = {str(k): v for k, v in report.items()}\n",
        "\n",
        "with open(\"data/outputs/classification_report.json\", \"w\") as f:\n",
        "    json.dump(cleaned_report, f, indent=4)\n",
        "\n",
        "print(\"✅ Report saved to data/outputs/classification_report.{csv,json}\")"
      ]
    },
    {
      "cell_type": "markdown",
      "metadata": {
        "id": "3FiDZEJVV3w1"
      },
      "source": [
        "### 📊 Confusion Matrix"
      ]
    },
    {
      "cell_type": "code",
      "execution_count": null,
      "metadata": {
        "colab": {
          "base_uri": "https://localhost:8080/",
          "height": 629
        },
        "id": "uNnghwVGV42l",
        "outputId": "88034707-8857-43d3-990b-44c6290eeb41"
      },
      "outputs": [],
      "source": [
        "cm = confusion_matrix(y_true, y_pred)\n",
        "plt.figure(figsize=(6, 5))\n",
        "sns.heatmap(cm, annot=True, fmt=\"d\", cmap=\"Blues\", xticklabels=le.classes_, yticklabels=le.classes_)\n",
        "plt.title(\"🧬 Confusion Matrix\")\n",
        "plt.xlabel(\"Predicted\")\n",
        "plt.ylabel(\"True\")\n",
        "plt.tight_layout()\n",
        "plt.savefig(\"data/outputs/confusion_matrix.png\")\n",
        "plt.show()\n",
        "\n",
        "print(\"✅ Confusion matrix saved to data/outputs/confusion_matrix.png\")"
      ]
    }
  ],
  "metadata": {
    "colab": {
      "provenance": []
    },
    "kernelspec": {
      "display_name": "Python 3",
      "name": "python3"
    },
    "language_info": {
      "name": "python"
    }
  },
  "nbformat": 4,
  "nbformat_minor": 0
}
