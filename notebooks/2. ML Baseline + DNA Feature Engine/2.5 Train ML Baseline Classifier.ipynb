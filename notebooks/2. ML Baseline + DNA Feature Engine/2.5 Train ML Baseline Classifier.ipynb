{
  "cells": [
    {
      "cell_type": "markdown",
      "metadata": {
        "id": "52BedLn8O0I1"
      },
      "source": [
        "# 🎯 Train ML Baseline Classifier\n",
        "Let’s walk through a powerful Colab notebook-style setup that checks all subtasks\n",
        "\n",
        "## ✅ Features:\n",
        "### + XGBoost classifier\n",
        "### + Feature importance plots\n",
        "### + Optuna hyperparameter tuning"
      ]
    },
    {
      "cell_type": "markdown",
      "metadata": {
        "id": "d_EC12ysQdWV"
      },
      "source": [
        "## 📦 Install Dependencies + 🔧 Import"
      ]
    },
    {
      "cell_type": "code",
      "execution_count": null,
      "metadata": {
        "colab": {
          "base_uri": "https://localhost:8080/"
        },
        "id": "TPnlo7HNOoOI",
        "outputId": "c853bd56-73e1-48db-85b9-895455e512ea"
      },
      "outputs": [],
      "source": [
        "# 📦 Install XGBoost if not yet installed\n",
        "!pip install xgboost optuna scikit-learn matplotlib seaborn\n",
        "\n",
        "\n",
        "# ✅ Imports\n",
        "import pandas as pd\n",
        "import numpy as np\n",
        "import xgboost as xgb\n",
        "import optuna\n",
        "from sklearn.model_selection import train_test_split\n",
        "from sklearn.metrics import classification_report, f1_score\n",
        "from sklearn.preprocessing import LabelEncoder\n",
        "import matplotlib.pyplot as plt\n",
        "import seaborn as sns\n",
        "import joblib\n",
        "import os"
      ]
    },
    {
      "cell_type": "markdown",
      "metadata": {
        "id": "nI1FghryQZJM"
      },
      "source": [
        "## 📥 Load k-mer Data + Labels"
      ]
    },
    {
      "cell_type": "code",
      "execution_count": null,
      "metadata": {
        "colab": {
          "base_uri": "https://localhost:8080/"
        },
        "id": "CdYEbSPQQAFV",
        "outputId": "8e4a239d-aa39-4f5b-c8d9-e324d7d0f04b"
      },
      "outputs": [],
      "source": [
        "df = pd.read_csv(\"data/processed/fasta_kmer_6mer.csv\")\n",
        "\n",
        "# ⚠️ TEMP: Simulate multi-class task\n",
        "df[\"label\"] = [i % 3 for i in range(len(df))]  # Classes: 0,1,2\n",
        "print(df[\"label\"].value_counts())\n",
        "\n",
        "X = df.drop(columns=[\"label\"])\n",
        "y = df[\"label\"]\n",
        "\n",
        "# Label encode for safety\n",
        "le = LabelEncoder()\n",
        "y_encoded = le.fit_transform(y)"
      ]
    },
    {
      "cell_type": "markdown",
      "metadata": {
        "id": "kxwwYbEcQWHM"
      },
      "source": [
        "## 🔍 Optuna Tuner"
      ]
    },
    {
      "cell_type": "code",
      "execution_count": null,
      "metadata": {
        "id": "gA8lKQFHQRv1"
      },
      "outputs": [],
      "source": [
        "def objective(trial):\n",
        "    params = {\n",
        "        \"n_estimators\": trial.suggest_int(\"n_estimators\", 100, 300),\n",
        "        \"max_depth\": trial.suggest_int(\"max_depth\", 4, 10),\n",
        "        \"learning_rate\": trial.suggest_float(\"learning_rate\", 0.01, 0.3),\n",
        "        \"subsample\": trial.suggest_float(\"subsample\", 0.5, 1.0),\n",
        "        \"colsample_bytree\": trial.suggest_float(\"colsample_bytree\", 0.5, 1.0),\n",
        "        \"tree_method\": \"hist\",\n",
        "        \"eval_metric\": \"mlogloss\",\n",
        "        \"objective\": \"multi:softprob\",\n",
        "        \"num_class\": len(np.unique(y_encoded))\n",
        "    }\n",
        "\n",
        "    X_train, X_val, y_train, y_val = train_test_split(X, y_encoded, test_size=0.2, random_state=42, stratify=y_encoded)\n",
        "\n",
        "    model = xgb.XGBClassifier(**params)\n",
        "    model.fit(X_train, y_train)\n",
        "\n",
        "    preds = model.predict(X_val)\n",
        "    return f1_score(y_val, preds, average=\"weighted\")\n"
      ]
    },
    {
      "cell_type": "code",
      "execution_count": null,
      "metadata": {
        "colab": {
          "base_uri": "https://localhost:8080/"
        },
        "id": "tW-gUi-kQTl9",
        "outputId": "d6d3675e-f399-4601-a6b6-185bd1462fc7"
      },
      "outputs": [],
      "source": [
        "study = optuna.create_study(direction=\"maximize\")\n",
        "study.optimize(objective, n_trials=20)\n",
        "\n",
        "print(\"🎯 Best trial params:\")\n",
        "print(study.best_params)"
      ]
    },
    {
      "cell_type": "markdown",
      "metadata": {
        "id": "bTILM-iHQmCc"
      },
      "source": [
        "## 🧠 Final Model Training with Best Params"
      ]
    },
    {
      "cell_type": "code",
      "execution_count": null,
      "metadata": {
        "id": "IF2luNq2Qq01"
      },
      "outputs": [],
      "source": [
        "best_params = study.best_params\n",
        "best_params.update({\n",
        "    \"tree_method\": \"hist\",\n",
        "    \"eval_metric\": \"mlogloss\",\n",
        "    \"objective\": \"multi:softprob\",\n",
        "    \"num_class\": len(np.unique(y_encoded))\n",
        "})\n",
        "\n",
        "X_train, X_test, y_train, y_test = train_test_split(X, y_encoded, test_size=0.2, stratify=y_encoded, random_state=42)\n",
        "\n",
        "model = xgb.XGBClassifier(**best_params)\n",
        "model.fit(X_train, y_train)\n",
        "\n",
        "y_pred = model.predict(X_test)"
      ]
    },
    {
      "cell_type": "markdown",
      "metadata": {
        "id": "rm3t_JBpQvlm"
      },
      "source": [
        "## 📊 Report Metrics"
      ]
    },
    {
      "cell_type": "code",
      "execution_count": null,
      "metadata": {
        "colab": {
          "base_uri": "https://localhost:8080/"
        },
        "id": "j_knXtWZQtWt",
        "outputId": "b3516185-4bb3-41fd-b8b4-451281e912a6"
      },
      "outputs": [],
      "source": [
        "print(\"📈 Classification Report:\\n\")\n",
        "print(classification_report(y_test, y_pred))\n",
        "\n",
        "f1 = f1_score(y_test, y_pred, average=\"weighted\")\n",
        "print(f\"✅ Weighted F1 Score: {f1:.4f}\")"
      ]
    },
    {
      "cell_type": "markdown",
      "metadata": {
        "id": "LOoyIqoJQx58"
      },
      "source": [
        "## 🌟 Feature Importance"
      ]
    },
    {
      "cell_type": "code",
      "execution_count": null,
      "metadata": {
        "colab": {
          "base_uri": "https://localhost:8080/",
          "height": 504
        },
        "id": "GHEHzu_bQ08E",
        "outputId": "34b92586-d12f-4dd0-9378-225d23a964b0"
      },
      "outputs": [],
      "source": [
        "plt.figure(figsize=(10, 6))\n",
        "xgb.plot_importance(model, max_num_features=20, importance_type=\"gain\")\n",
        "plt.title(\"Top 20 Most Important k-mers\")\n",
        "plt.tight_layout()\n",
        "plt.show()"
      ]
    },
    {
      "cell_type": "markdown",
      "metadata": {
        "id": "XUpKp95EQ3tE"
      },
      "source": [
        "## 💾 Save Model + Artifacts"
      ]
    },
    {
      "cell_type": "code",
      "execution_count": null,
      "metadata": {
        "colab": {
          "base_uri": "https://localhost:8080/"
        },
        "id": "2bLqMc-mQ7W8",
        "outputId": "3494ecb2-d243-4ed0-e3c8-35abe7531b12"
      },
      "outputs": [],
      "source": [
        "os.makedirs(\"models\", exist_ok=True)\n",
        "joblib.dump(model, \"src/ml/xgboost_dna_classifier.pkl\")\n",
        "joblib.dump(le, \"src/ml/label_encoder.pkl\")\n",
        "\n",
        "print(\"✅ Model + label encoder saved for RAG or LangChain input!\")"
      ]
    }
  ],
  "metadata": {
    "colab": {
      "provenance": []
    },
    "kernelspec": {
      "display_name": "Python 3",
      "name": "python3"
    },
    "language_info": {
      "name": "python"
    }
  },
  "nbformat": 4,
  "nbformat_minor": 0
}
