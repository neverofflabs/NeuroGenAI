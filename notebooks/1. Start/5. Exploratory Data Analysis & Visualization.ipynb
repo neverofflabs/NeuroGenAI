{
  "cells": [
    {
      "cell_type": "markdown",
      "metadata": {
        "id": "q1PYVQTwUvDF"
      },
      "source": [
        "# Exploratory Data Analysis & Visualization"
      ]
    },
    {
      "cell_type": "markdown",
      "metadata": {
        "id": "hapGcT7fQa46"
      },
      "source": [
        "## Prerequisites"
      ]
    },
    {
      "cell_type": "code",
      "execution_count": null,
      "metadata": {
        "colab": {
          "base_uri": "https://localhost:8080/"
        },
        "id": "wmMm5u03PCKU",
        "outputId": "9ff586a6-e8f3-4feb-dedd-dbd4f823b654"
      },
      "outputs": [],
      "source": [
        "# Install essential EDA + Viz tools (stable versions only)\n",
        "!pip install sweetviz ydata-profiling kaleido --quiet"
      ]
    },
    {
      "cell_type": "code",
      "execution_count": null,
      "metadata": {
        "colab": {
          "base_uri": "https://localhost:8080/",
          "height": 64
        },
        "id": "0uQ9izGJU12T",
        "outputId": "5f5c7c82-aeea-437c-904b-1d62aa54bbde"
      },
      "outputs": [],
      "source": [
        "import pandas as pd\n",
        "import sweetviz as sv\n",
        "from ydata_profiling import ProfileReport\n",
        "import matplotlib.pyplot as plt\n",
        "import seaborn as sns\n",
        "import plotly.express as px\n",
        "import numpy as np"
      ]
    },
    {
      "cell_type": "markdown",
      "metadata": {
        "id": "VSicI7HYU-1W"
      },
      "source": [
        "## Automated EDA Reports"
      ]
    },
    {
      "cell_type": "code",
      "execution_count": null,
      "metadata": {
        "colab": {
          "base_uri": "https://localhost:8080/",
          "height": 477
        },
        "id": "H2teUlXpYx00",
        "outputId": "2fc778e5-5ab8-43aa-fa7e-7756fb8dfbee"
      },
      "outputs": [],
      "source": [
        "from wordcloud import WordCloud\n",
        "import matplotlib.pyplot as plt\n",
        "\n",
        "# Generate frequencies (e.g. for gene snippets or kmers)\n",
        "frequencies = df['SEQUENCE'].value_counts().to_dict()\n",
        "\n",
        "# Check if we actually have content\n",
        "if not frequencies:\n",
        "    raise ValueError(\"❌ No valid sequence frequencies found for word cloud.\")\n",
        "\n",
        "# Generate word cloud\n",
        "wordcloud = WordCloud(width=800, height=400, background_color='white', max_words=100).generate_from_frequencies(frequencies)\n",
        "\n",
        "# Plot it\n",
        "plt.figure(figsize=(10, 5))\n",
        "plt.imshow(wordcloud, interpolation='bilinear')\n",
        "plt.axis(\"off\")\n",
        "plt.title(\"🧬 Word Cloud of Most Frequent Sequences\")\n",
        "plt.show()\n"
      ]
    },
    {
      "cell_type": "code",
      "execution_count": null,
      "metadata": {
        "colab": {
          "base_uri": "https://localhost:8080/",
          "height": 84,
          "referenced_widgets": [
            "17e45f84243e406e8ca16db9be863652",
            "0142096f1ccd4f589d3fbeca08bed218",
            "1ae527a885504e9b819f4046894b9d2d",
            "8511b5c0bd4e4d0d896928306520c4b5",
            "5a32185c8e35410c93574fbbc7e82598",
            "db0ed11205aa49cc868908570da59a65",
            "952df17b166f42749b52606be5f82a8a",
            "9caec253e52447bdb4840883a16cf563",
            "2dba167a6f9f4418ae49f649cdd5ea60",
            "4d755a7e3e9643e98b5634c5da76985a",
            "d2b0d937336f4cacb5354f03282e2a19"
          ]
        },
        "id": "ma7CYkNWXJCX",
        "outputId": "e6001f40-8c8f-4cf9-d7e7-ad8490cef065"
      },
      "outputs": [],
      "source": [
        "sweetviz_report = sv.analyze(df.astype(str))  # Fix mixed-type bug\n",
        "sweetviz_report.show_html(\"eda_sweetviz_report.html\")\n",
        "print(\"✅ Sweetviz report saved to: eda_sweetviz_report.html\")"
      ]
    },
    {
      "cell_type": "markdown",
      "metadata": {
        "id": "kQTwBm_1YRi7"
      },
      "source": [
        "## Sequence Visualizations"
      ]
    },
    {
      "cell_type": "markdown",
      "metadata": {
        "id": "x9ugIim2Y_6m"
      },
      "source": [
        "### Standartization of data"
      ]
    },
    {
      "cell_type": "code",
      "execution_count": null,
      "metadata": {
        "colab": {
          "base_uri": "https://localhost:8080/"
        },
        "id": "rhvT-3xVYmDN",
        "outputId": "ca4933c4-71ac-410d-b207-260d2f37bbe6"
      },
      "outputs": [],
      "source": [
        "print(df.columns.tolist())\n"
      ]
    },
    {
      "cell_type": "code",
      "execution_count": null,
      "metadata": {
        "id": "yjx5AlY-Ypcf"
      },
      "outputs": [],
      "source": [
        "df.rename(columns=lambda x: x.strip().upper(), inplace=True)"
      ]
    },
    {
      "cell_type": "code",
      "execution_count": null,
      "metadata": {
        "colab": {
          "base_uri": "https://localhost:8080/"
        },
        "id": "T1Wwen1EYt0W",
        "outputId": "59151d99-e44e-40a6-f316-931dcd1cd886"
      },
      "outputs": [],
      "source": [
        "print(df.columns.tolist())"
      ]
    },
    {
      "cell_type": "code",
      "execution_count": null,
      "metadata": {
        "colab": {
          "base_uri": "https://localhost:8080/",
          "height": 501
        },
        "id": "ZW9c-uCSYVvW",
        "outputId": "f21fb1dd-1761-492b-a5ad-6d1a9cfb39e5"
      },
      "outputs": [],
      "source": [
        "# ✅ Sequence Length Distribution\n",
        "df['Length'] = df['SEQUENCE'].str.len()\n",
        "sns.histplot(df['Length'], kde=True, bins=50)\n",
        "plt.title(\"🧬 Distribution of RNA Sequence Lengths\")\n",
        "plt.xlabel(\"Sequence Length\")\n",
        "plt.ylabel(\"Count\")\n",
        "plt.show()"
      ]
    },
    {
      "cell_type": "code",
      "execution_count": null,
      "metadata": {
        "colab": {
          "base_uri": "https://localhost:8080/",
          "height": 501
        },
        "id": "GI4H3TTyZJTl",
        "outputId": "a1da24ae-65f6-4713-9745-02c0fb9ee1f0"
      },
      "outputs": [],
      "source": [
        "# ✅ Top Expressed Gene Snippets\n",
        "top_snippets = df['SEQUENCE'].value_counts().head(10)\n",
        "top_snippets.plot(kind='barh', title=\"🔝 Top 10 Most Frequent Gene Sequences\", color='mediumseagreen')\n",
        "plt.xlabel(\"Frequency\")\n",
        "plt.gca().invert_yaxis()\n",
        "plt.show()"
      ]
    },
    {
      "cell_type": "code",
      "execution_count": null,
      "metadata": {
        "colab": {
          "base_uri": "https://localhost:8080/",
          "height": 537
        },
        "id": "D8QHzjrLZMLO",
        "outputId": "33582c35-b651-4169-ccc5-593dd44b6e55"
      },
      "outputs": [],
      "source": [
        "# ✅ GC Content Heatmap\n",
        "def gc_content(seq):\n",
        "    return (seq.count('G') + seq.count('C')) / len(seq) if len(seq) > 0 else 0\n",
        "\n",
        "df['GC_Content'] = df['SEQUENCE'].apply(gc_content)\n",
        "sns.heatmap(df[['GC_Content']].T, cmap=\"viridis\", cbar=True)\n",
        "plt.title(\"🌡️ Heatmap of GC Content in Sequences\")\n",
        "plt.show()"
      ]
    },
    {
      "cell_type": "markdown",
      "metadata": {
        "id": "wvCExm_PZcKY"
      },
      "source": [
        "## Visual Storytelling Snippets"
      ]
    },
    {
      "cell_type": "code",
      "execution_count": null,
      "metadata": {
        "colab": {
          "base_uri": "https://localhost:8080/",
          "height": 542
        },
        "id": "t2tkX67yZddf",
        "outputId": "dda5a7e7-d873-4453-a83b-6a14816a7a94"
      },
      "outputs": [],
      "source": [
        "# ✅ DNA-scale context captions\n",
        "fig = px.histogram(df, x='Length', nbins=60, title=\"📈 DNA Sequence Lengths (~600K markers scale)\")\n",
        "fig.update_layout(xaxis_title=\"Sequence Length\", yaxis_title=\"Frequency\")\n",
        "fig.write_image(\"story_dna_lengths.png\")  # Saved for blog/video caption use\n",
        "fig.show()"
      ]
    },
    {
      "cell_type": "code",
      "execution_count": null,
      "metadata": {
        "colab": {
          "base_uri": "https://localhost:8080/"
        },
        "id": "io8l8ftDZpB2",
        "outputId": "5dbcda0f-8a0c-4266-db84-ec87da94def5"
      },
      "outputs": [],
      "source": [
        "# ✅ AI-ready data storytelling\n",
        "example_kmers = df['SEQUENCE'].iloc[0][:20]  # First 20 chars of one example\n",
        "print(f\"🔬 'Here are real human genes from NCBI, sliced into k-mers, ready for AI: {example_kmers}'\")"
      ]
    }
  ],
  "metadata": {
    "colab": {
      "provenance": []
    },
    "kernelspec": {
      "display_name": "Python 3",
      "name": "python3"
    },
    "language_info": {
      "name": "python"
    },
    "widgets": {
      "application/vnd.jupyter.widget-state+json": {
        "0142096f1ccd4f589d3fbeca08bed218": {
          "model_module": "@jupyter-widgets/controls",
          "model_module_version": "1.5.0",
          "model_name": "HTMLModel",
          "state": {
            "_dom_classes": [],
            "_model_module": "@jupyter-widgets/controls",
            "_model_module_version": "1.5.0",
            "_model_name": "HTMLModel",
            "_view_count": null,
            "_view_module": "@jupyter-widgets/controls",
            "_view_module_version": "1.5.0",
            "_view_name": "HTMLView",
            "description": "",
            "description_tooltip": null,
            "layout": "IPY_MODEL_db0ed11205aa49cc868908570da59a65",
            "placeholder": "​",
            "style": "IPY_MODEL_952df17b166f42749b52606be5f82a8a",
            "value": "Done! Use &#x27;show&#x27; commands to display/save.   "
          }
        },
        "17e45f84243e406e8ca16db9be863652": {
          "model_module": "@jupyter-widgets/controls",
          "model_module_version": "1.5.0",
          "model_name": "HBoxModel",
          "state": {
            "_dom_classes": [],
            "_model_module": "@jupyter-widgets/controls",
            "_model_module_version": "1.5.0",
            "_model_name": "HBoxModel",
            "_view_count": null,
            "_view_module": "@jupyter-widgets/controls",
            "_view_module_version": "1.5.0",
            "_view_name": "HBoxView",
            "box_style": "",
            "children": [
              "IPY_MODEL_0142096f1ccd4f589d3fbeca08bed218",
              "IPY_MODEL_1ae527a885504e9b819f4046894b9d2d",
              "IPY_MODEL_8511b5c0bd4e4d0d896928306520c4b5"
            ],
            "layout": "IPY_MODEL_5a32185c8e35410c93574fbbc7e82598"
          }
        },
        "1ae527a885504e9b819f4046894b9d2d": {
          "model_module": "@jupyter-widgets/controls",
          "model_module_version": "1.5.0",
          "model_name": "FloatProgressModel",
          "state": {
            "_dom_classes": [],
            "_model_module": "@jupyter-widgets/controls",
            "_model_module_version": "1.5.0",
            "_model_name": "FloatProgressModel",
            "_view_count": null,
            "_view_module": "@jupyter-widgets/controls",
            "_view_module_version": "1.5.0",
            "_view_name": "ProgressView",
            "bar_style": "success",
            "description": "",
            "description_tooltip": null,
            "layout": "IPY_MODEL_9caec253e52447bdb4840883a16cf563",
            "max": 1,
            "min": 0,
            "orientation": "horizontal",
            "style": "IPY_MODEL_2dba167a6f9f4418ae49f649cdd5ea60",
            "value": 1
          }
        },
        "2dba167a6f9f4418ae49f649cdd5ea60": {
          "model_module": "@jupyter-widgets/controls",
          "model_module_version": "1.5.0",
          "model_name": "ProgressStyleModel",
          "state": {
            "_model_module": "@jupyter-widgets/controls",
            "_model_module_version": "1.5.0",
            "_model_name": "ProgressStyleModel",
            "_view_count": null,
            "_view_module": "@jupyter-widgets/base",
            "_view_module_version": "1.2.0",
            "_view_name": "StyleView",
            "bar_color": null,
            "description_width": ""
          }
        },
        "4d755a7e3e9643e98b5634c5da76985a": {
          "model_module": "@jupyter-widgets/base",
          "model_module_version": "1.2.0",
          "model_name": "LayoutModel",
          "state": {
            "_model_module": "@jupyter-widgets/base",
            "_model_module_version": "1.2.0",
            "_model_name": "LayoutModel",
            "_view_count": null,
            "_view_module": "@jupyter-widgets/base",
            "_view_module_version": "1.2.0",
            "_view_name": "LayoutView",
            "align_content": null,
            "align_items": null,
            "align_self": null,
            "border": null,
            "bottom": null,
            "display": null,
            "flex": null,
            "flex_flow": null,
            "grid_area": null,
            "grid_auto_columns": null,
            "grid_auto_flow": null,
            "grid_auto_rows": null,
            "grid_column": null,
            "grid_gap": null,
            "grid_row": null,
            "grid_template_areas": null,
            "grid_template_columns": null,
            "grid_template_rows": null,
            "height": null,
            "justify_content": null,
            "justify_items": null,
            "left": null,
            "margin": null,
            "max_height": null,
            "max_width": null,
            "min_height": null,
            "min_width": null,
            "object_fit": null,
            "object_position": null,
            "order": null,
            "overflow": null,
            "overflow_x": null,
            "overflow_y": null,
            "padding": null,
            "right": null,
            "top": null,
            "visibility": null,
            "width": null
          }
        },
        "5a32185c8e35410c93574fbbc7e82598": {
          "model_module": "@jupyter-widgets/base",
          "model_module_version": "1.2.0",
          "model_name": "LayoutModel",
          "state": {
            "_model_module": "@jupyter-widgets/base",
            "_model_module_version": "1.2.0",
            "_model_name": "LayoutModel",
            "_view_count": null,
            "_view_module": "@jupyter-widgets/base",
            "_view_module_version": "1.2.0",
            "_view_name": "LayoutView",
            "align_content": null,
            "align_items": null,
            "align_self": null,
            "border": null,
            "bottom": null,
            "display": "inline-flex",
            "flex": null,
            "flex_flow": "row wrap",
            "grid_area": null,
            "grid_auto_columns": null,
            "grid_auto_flow": null,
            "grid_auto_rows": null,
            "grid_column": null,
            "grid_gap": null,
            "grid_row": null,
            "grid_template_areas": null,
            "grid_template_columns": null,
            "grid_template_rows": null,
            "height": null,
            "justify_content": null,
            "justify_items": null,
            "left": null,
            "margin": null,
            "max_height": null,
            "max_width": null,
            "min_height": null,
            "min_width": null,
            "object_fit": null,
            "object_position": null,
            "order": null,
            "overflow": null,
            "overflow_x": null,
            "overflow_y": null,
            "padding": null,
            "right": null,
            "top": null,
            "visibility": null,
            "width": "100%"
          }
        },
        "8511b5c0bd4e4d0d896928306520c4b5": {
          "model_module": "@jupyter-widgets/controls",
          "model_module_version": "1.5.0",
          "model_name": "HTMLModel",
          "state": {
            "_dom_classes": [],
            "_model_module": "@jupyter-widgets/controls",
            "_model_module_version": "1.5.0",
            "_model_name": "HTMLModel",
            "_view_count": null,
            "_view_module": "@jupyter-widgets/controls",
            "_view_module_version": "1.5.0",
            "_view_name": "HTMLView",
            "description": "",
            "description_tooltip": null,
            "layout": "IPY_MODEL_4d755a7e3e9643e98b5634c5da76985a",
            "placeholder": "​",
            "style": "IPY_MODEL_d2b0d937336f4cacb5354f03282e2a19",
            "value": " [100%]   00:00 -&gt; (00:00 left)"
          }
        },
        "952df17b166f42749b52606be5f82a8a": {
          "model_module": "@jupyter-widgets/controls",
          "model_module_version": "1.5.0",
          "model_name": "DescriptionStyleModel",
          "state": {
            "_model_module": "@jupyter-widgets/controls",
            "_model_module_version": "1.5.0",
            "_model_name": "DescriptionStyleModel",
            "_view_count": null,
            "_view_module": "@jupyter-widgets/base",
            "_view_module_version": "1.2.0",
            "_view_name": "StyleView",
            "description_width": ""
          }
        },
        "9caec253e52447bdb4840883a16cf563": {
          "model_module": "@jupyter-widgets/base",
          "model_module_version": "1.2.0",
          "model_name": "LayoutModel",
          "state": {
            "_model_module": "@jupyter-widgets/base",
            "_model_module_version": "1.2.0",
            "_model_name": "LayoutModel",
            "_view_count": null,
            "_view_module": "@jupyter-widgets/base",
            "_view_module_version": "1.2.0",
            "_view_name": "LayoutView",
            "align_content": null,
            "align_items": null,
            "align_self": null,
            "border": null,
            "bottom": null,
            "display": null,
            "flex": "2",
            "flex_flow": null,
            "grid_area": null,
            "grid_auto_columns": null,
            "grid_auto_flow": null,
            "grid_auto_rows": null,
            "grid_column": null,
            "grid_gap": null,
            "grid_row": null,
            "grid_template_areas": null,
            "grid_template_columns": null,
            "grid_template_rows": null,
            "height": null,
            "justify_content": null,
            "justify_items": null,
            "left": null,
            "margin": null,
            "max_height": null,
            "max_width": null,
            "min_height": null,
            "min_width": null,
            "object_fit": null,
            "object_position": null,
            "order": null,
            "overflow": null,
            "overflow_x": null,
            "overflow_y": null,
            "padding": null,
            "right": null,
            "top": null,
            "visibility": null,
            "width": null
          }
        },
        "d2b0d937336f4cacb5354f03282e2a19": {
          "model_module": "@jupyter-widgets/controls",
          "model_module_version": "1.5.0",
          "model_name": "DescriptionStyleModel",
          "state": {
            "_model_module": "@jupyter-widgets/controls",
            "_model_module_version": "1.5.0",
            "_model_name": "DescriptionStyleModel",
            "_view_count": null,
            "_view_module": "@jupyter-widgets/base",
            "_view_module_version": "1.2.0",
            "_view_name": "StyleView",
            "description_width": ""
          }
        },
        "db0ed11205aa49cc868908570da59a65": {
          "model_module": "@jupyter-widgets/base",
          "model_module_version": "1.2.0",
          "model_name": "LayoutModel",
          "state": {
            "_model_module": "@jupyter-widgets/base",
            "_model_module_version": "1.2.0",
            "_model_name": "LayoutModel",
            "_view_count": null,
            "_view_module": "@jupyter-widgets/base",
            "_view_module_version": "1.2.0",
            "_view_name": "LayoutView",
            "align_content": null,
            "align_items": null,
            "align_self": null,
            "border": null,
            "bottom": null,
            "display": null,
            "flex": null,
            "flex_flow": null,
            "grid_area": null,
            "grid_auto_columns": null,
            "grid_auto_flow": null,
            "grid_auto_rows": null,
            "grid_column": null,
            "grid_gap": null,
            "grid_row": null,
            "grid_template_areas": null,
            "grid_template_columns": null,
            "grid_template_rows": null,
            "height": null,
            "justify_content": null,
            "justify_items": null,
            "left": null,
            "margin": null,
            "max_height": null,
            "max_width": null,
            "min_height": null,
            "min_width": null,
            "object_fit": null,
            "object_position": null,
            "order": null,
            "overflow": null,
            "overflow_x": null,
            "overflow_y": null,
            "padding": null,
            "right": null,
            "top": null,
            "visibility": null,
            "width": null
          }
        }
      }
    }
  },
  "nbformat": 4,
  "nbformat_minor": 0
}
