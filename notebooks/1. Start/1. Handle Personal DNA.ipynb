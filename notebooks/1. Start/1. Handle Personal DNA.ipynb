{
  "cells": [
    {
      "cell_type": "code",
      "execution_count": null,
      "metadata": {
        "id": "Go72gFgoQ_bz"
      },
      "outputs": [],
      "source": [
        "import pandas as pd"
      ]
    },
    {
      "cell_type": "code",
      "execution_count": null,
      "metadata": {
        "id": "8d_ZKzAzRlzW"
      },
      "outputs": [],
      "source": [
        "def load_personal_dna(filepath):\n",
        "    df = pd.read_csv(filepath, comment='#', sep='\\t')\n",
        "    df = df.dropna()\n",
        "    print(\"✅ Loaded personal DNA:\", df.shape)\n",
        "    print(df.head())\n",
        "    return df"
      ]
    },
    {
      "cell_type": "code",
      "execution_count": null,
      "metadata": {
        "id": "XDWQt4JERwlr"
      },
      "outputs": [],
      "source": [
        "load_personal_dna(\"/src/data/personal_SNP_raw_dna_data.csv\")"
      ]
    }
  ],
  "metadata": {
    "colab": {
      "provenance": []
    },
    "kernelspec": {
      "display_name": "Python 3",
      "name": "python3"
    },
    "language_info": {
      "name": "python"
    }
  },
  "nbformat": 4,
  "nbformat_minor": 0
}
