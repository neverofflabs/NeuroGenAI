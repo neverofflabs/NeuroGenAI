{
  "cells": [
    {
      "cell_type": "markdown",
      "metadata": {
        "id": "6eUl7Ei5DlIR"
      },
      "source": [
        "# Plot Nucleotide Frequencies & GC Content\n",
        "-Count A, T, G, C per sequence and globally\n",
        "- Calculate GC content = (G + C) / (A + T + G + C)\n",
        "-Plot overall distribution and optionally per gene"
      ]
    },
    {
      "cell_type": "markdown",
      "metadata": {
        "id": "WfI6k9EBDom5"
      },
      "source": [
        "## Preparation from DEV-8: Source DNA from NCBI(Homo Sapiens) in Fasta"
      ]
    },
    {
      "cell_type": "code",
      "execution_count": null,
      "metadata": {
        "colab": {
          "base_uri": "https://localhost:8080/"
        },
        "id": "wowu-_o_Enbd",
        "outputId": "0757bfb4-a658-4392-e2ea-f791f86a7d18"
      },
      "outputs": [],
      "source": [
        "!wget https://ftp.ncbi.nlm.nih.gov/refseq/H_sapiens/mRNA_Prot/human.1.rna.fna.gz\n",
        "!gunzip human.1.rna.fna.gz\n",
        "!pip install biopython\n",
        "\n",
        "from Bio import Entrez, SeqIO\n",
        "import pandas as pd\n",
        "from google.colab import files\n",
        "\n",
        "def fasta_to_csv(filepath, output_path, max_len=200):\n",
        "    data = []\n",
        "    for record in SeqIO.parse(filepath, \"fasta\"):\n",
        "        data.append({\n",
        "            \"ID\": record.id,\n",
        "            \"Length\": len(record.seq),\n",
        "            \"Description\": record.description,\n",
        "            \"Sequence\": str(record.seq[:max_len]) + (\"...\" if len(record.seq) > max_len else \"\")\n",
        "        })\n",
        "    df = pd.DataFrame(data)\n",
        "    df.to_csv(output_path, index=False)\n",
        "    print(f\"✅ Saved {len(df)} records to {output_path}\")\n",
        "    return df"
      ]
    },
    {
      "cell_type": "code",
      "execution_count": null,
      "metadata": {
        "colab": {
          "base_uri": "https://localhost:8080/",
          "height": 441
        },
        "id": "G9M05aW7FKGx",
        "outputId": "dcb1db8d-17df-459c-c006-21aff2c87c2e"
      },
      "outputs": [],
      "source": [
        "df = fasta_to_csv(\"human.1.rna.fna\", \"human_rna.csv\")\n",
        "df.head(200)"
      ]
    },
    {
      "cell_type": "markdown",
      "metadata": {
        "id": "qc9BnkPoFjH0"
      },
      "source": [
        "## Plot Basic Nucleotide Frequencies"
      ]
    },
    {
      "cell_type": "markdown",
      "metadata": {
        "id": "ov5XLxI_FzRH"
      },
      "source": [
        "### Nucleotide Frequency & GC Content Calculation"
      ]
    },
    {
      "cell_type": "code",
      "execution_count": null,
      "metadata": {
        "id": "1CY6HDzeFlNc"
      },
      "outputs": [],
      "source": [
        "import matplotlib.pyplot as plt\n",
        "from collections import Counter\n",
        "\n",
        "def analyze_nucleotide_freq(df):\n",
        "    freqs = {'A': 0, 'T': 0, 'C': 0, 'G': 0}\n",
        "    gc_content = []\n",
        "\n",
        "    for seq in df[\"Sequence\"].str.replace(\"...\", \"\", regex=False):  # Remove ellipsis\n",
        "        counts = Counter(seq.upper())\n",
        "        for base in freqs:\n",
        "            freqs[base] += counts.get(base, 0)\n",
        "        total = sum(counts.get(b, 0) for b in \"ATCG\")\n",
        "        gc = (counts.get('G', 0) + counts.get('C', 0)) / total if total > 0 else 0\n",
        "        gc_content.append(gc)\n",
        "\n",
        "    return freqs, gc_content\n",
        "\n",
        "nuc_freqs, gc_list = analyze_nucleotide_freq(df)"
      ]
    },
    {
      "cell_type": "markdown",
      "metadata": {
        "id": "Ry1LR_U6Fqp6"
      },
      "source": [
        "### Plot Results"
      ]
    },
    {
      "cell_type": "code",
      "execution_count": null,
      "metadata": {
        "colab": {
          "base_uri": "https://localhost:8080/",
          "height": 784
        },
        "id": "7zur1FySF4Mk",
        "outputId": "f07a2f6d-78b8-4a74-bb8c-c9551e6a4e9c"
      },
      "outputs": [],
      "source": [
        "# Plot nucleotide frequencies\n",
        "plt.figure(figsize=(6,4))\n",
        "plt.bar(nuc_freqs.keys(), nuc_freqs.values(), color=[\"green\", \"red\", \"blue\", \"orange\"])\n",
        "plt.title(\"Overall Nucleotide Frequency (A/T/C/G)\")\n",
        "plt.ylabel(\"Count\")\n",
        "plt.show()\n",
        "\n",
        "# Plot GC content distribution\n",
        "plt.figure(figsize=(6,4))\n",
        "plt.hist(gc_list, bins=30, color='purple', edgecolor='black')\n",
        "plt.title(\"GC Content per Sequence\")\n",
        "plt.xlabel(\"GC Content\")\n",
        "plt.ylabel(\"Number of Sequences\")\n",
        "plt.show()"
      ]
    },
    {
      "cell_type": "markdown",
      "metadata": {
        "id": "pi5Im-FeGMkb"
      },
      "source": [
        "## Create k-mer Splitter (For ML & SNN)\n",
        "\n",
        "- Generate overlapping k-mers from each RNA sequence\n",
        "-Example:\n",
        "  - Sequence: \"ATGCGAAT\" with k=6 →\n",
        "  - Output: [\"ATGCGA\", \"TGCGAA\", \"GCGAAT\"]\n",
        "- Store as:\n",
        "  - ID: transcript ID\n",
        "  - KMER: individual k-mer"
      ]
    },
    {
      "cell_type": "markdown",
      "metadata": {
        "id": "0ULdflf-GxNS"
      },
      "source": [
        "### Define the k-mer Generator"
      ]
    },
    {
      "cell_type": "code",
      "execution_count": null,
      "metadata": {
        "id": "vh8wyyjUGudC"
      },
      "outputs": [],
      "source": [
        "# Define the k-mer Generator\n",
        "def generate_kmers(sequence, k=6):\n",
        "    return [sequence[i:i+k] for i in range(len(sequence) - k + 1)]"
      ]
    },
    {
      "cell_type": "code",
      "execution_count": null,
      "metadata": {
        "id": "adZLigVRGTBI"
      },
      "outputs": [],
      "source": [
        "# Apply to Data\n",
        "def kmers_to_dataframe(df, k=6):\n",
        "    kmers_data = []\n",
        "\n",
        "    for _, row in df.iterrows():\n",
        "        seq = row[\"Sequence\"].replace(\"...\", \"\")  # remove ellipsis\n",
        "        kmers = generate_kmers(seq, k)\n",
        "        for kmer in kmers:\n",
        "            kmers_data.append({\n",
        "                \"ID\": row[\"ID\"],\n",
        "                \"KMER\": kmer\n",
        "            })\n",
        "\n",
        "    kmer_df = pd.DataFrame(kmers_data)\n",
        "    print(f\"✅ Created {len(kmer_df)} k-mers (k={k}) from {len(df)} sequences\")\n",
        "    return kmer_df"
      ]
    },
    {
      "cell_type": "code",
      "execution_count": null,
      "metadata": {
        "colab": {
          "base_uri": "https://localhost:8080/"
        },
        "id": "cMlmzJJAG5JW",
        "outputId": "399f3871-a9bf-48b0-90a8-94cbb8b9f99a"
      },
      "outputs": [],
      "source": [
        "# Create output folder if needed\n",
        "import os\n",
        "os.makedirs(\"data\", exist_ok=True)\n",
        "\n",
        "# Save to CSV\n",
        "kmer_df = kmers_to_dataframe(df, k=6)\n",
        "kmer_df.to_csv(\"data/human_rna_kmers.csv\", index=False)\n",
        "print(\"📁 Saved to: data/human_rna_kmers.csv\")"
      ]
    },
    {
      "cell_type": "code",
      "execution_count": null,
      "metadata": {
        "colab": {
          "base_uri": "https://localhost:8080/",
          "height": 1014
        },
        "id": "Db_MiJvmHz-x",
        "outputId": "f3455591-d3a2-4f9f-d79f-73000e9cd092"
      },
      "outputs": [],
      "source": [
        "kmer_df.head()"
      ]
    },
    {
      "cell_type": "markdown",
      "metadata": {
        "id": "ygpKp9ZhIH1i"
      },
      "source": [
        "## Spike Encoding (For SNN Phase)\n",
        "\n",
        "### 🧠 What Are Spiking Neural Networks (SNNs)?\n",
        "SNNs are a third generation of neural networks, inspired by how biological neurons process information:\n",
        "- Instead of continuous values (like in CNNs or LSTMs), neurons in SNNs fire spikes (discrete events) over time.\n",
        "- Learning and computation rely on spike timing, not just spike rate — this leads to sparse, energy-efficient, and biologically-plausible computing.\n",
        "\n",
        "### 🔌 Why Spike Encode Gene Sequences?\n",
        "RNA/DNA data is sequential, symbolic, and sparse — perfect for SNNs because:\n",
        "- Genomic data has temporal dependencies (e.g., motif positioning)\n",
        "- K-mers can be treated like event triggers (e.g., spiking \"neurons\" that activate on biologically meaningful motifs)\n",
        "- SNNs offer low-latency, low-power inference for on-chip or embedded bioinformatics\n",
        "\n",
        "⚙️ Types of Spike Encoders for Gene Sequences\n",
        "1. Rate Coding (Poisson Encoding)\n",
        "- Encode values (e.g. nucleotide frequency, k-mer presence) as spike rates.\n",
        "- Each input neuron has a firing rate r; it spikes randomly using a Poisson process.\n",
        "- Good for: statistical regularities, k-mer presence/frequency.\n",
        "2. Temporal Coding\n",
        "- Stronger signal = earlier spike\n",
        "- One spike per neuron; timing encodes importance\n",
        "- Useful if you extract bio-features like GC content, motif scores, etc.\n",
        "3. Population Coding\n",
        "- Each k-mer activates a set of neurons, like a distributed code.\n",
        "- Often used with Gaussian tuning curves over input space\n",
        "- Useful if you want to embed k-mers via NLP methods (Word2Vec, etc.) and convert embeddings to spike rates.\n",
        "\n",
        "### Task\n",
        "We need to simulate spike trains from our nucleotide or k-mer data.\n",
        "We'll implement a Poisson-based spike encoder (common in SNN prep):\n",
        "- Each k-mer gets a \"firing probability\" based on frequency or embedding\n",
        "- Generate spike times as a list per input"
      ]
    },
    {
      "cell_type": "markdown",
      "metadata": {
        "id": "dBAuhYbvKjvD"
      },
      "source": [
        "### Dummy Frequency-Based Poisson Encoder (Conceptual)"
      ]
    },
    {
      "cell_type": "code",
      "execution_count": null,
      "metadata": {
        "id": "4apE4YHgIW15"
      },
      "outputs": [],
      "source": [
        "# Let’s simulate spike timing for k-mers using frequency-based intensity.\n",
        "import numpy as np\n",
        "\n",
        "def poisson_spike_train(kmer, rate=20, duration=100):\n",
        "    \"\"\"\n",
        "    Generate Poisson spike times for a k-mer.\n",
        "    - `rate`: firing rate in Hz\n",
        "    - `duration`: simulation time in ms\n",
        "    \"\"\"\n",
        "    spikes = []\n",
        "    for t in range(duration):\n",
        "        if np.random.rand() < rate / 1000:  # convert Hz to probability/ms\n",
        "            spikes.append(t)\n",
        "    return spikes"
      ]
    },
    {
      "cell_type": "markdown",
      "metadata": {
        "id": "xtuq9giWKs8m"
      },
      "source": [
        "### Apply to a Few Sample K-mers"
      ]
    },
    {
      "cell_type": "code",
      "execution_count": null,
      "metadata": {
        "colab": {
          "base_uri": "https://localhost:8080/"
        },
        "id": "0qu1RVElKuC8",
        "outputId": "a90e21fb-2e2a-4041-ff67-2b5c0fabad1c"
      },
      "outputs": [],
      "source": [
        "# Simulate spikes for a few example k-mers\n",
        "sampled_kmers = kmer_df['KMER'].sample(5, random_state=42)\n",
        "\n",
        "for kmer in sampled_kmers:\n",
        "    spikes = poisson_spike_train(kmer, rate=50)\n",
        "    print(f\"K-mer: {kmer} → Spikes (ms): {spikes[:10]}... ({len(spikes)} spikes)\")"
      ]
    },
    {
      "cell_type": "markdown",
      "metadata": {
        "id": "VL4i0BRrK2kr"
      },
      "source": [
        "## Store Clean FASTA Preview"
      ]
    },
    {
      "cell_type": "code",
      "execution_count": null,
      "metadata": {
        "colab": {
          "base_uri": "https://localhost:8080/"
        },
        "id": "Z52rzaEMK1Oj",
        "outputId": "f6eb5a09-f11d-437a-e13d-1255011850e4"
      },
      "outputs": [],
      "source": [
        "df.to_csv(\"data/human_rna_clean.csv\", index=False)\n",
        "print(\"📁 Saved clean preview to: data/human_rna_clean.csv\")"
      ]
    }
  ],
  "metadata": {
    "colab": {
      "provenance": []
    },
    "kernelspec": {
      "display_name": "Python 3",
      "name": "python3"
    },
    "language_info": {
      "name": "python"
    }
  },
  "nbformat": 4,
  "nbformat_minor": 0
}
