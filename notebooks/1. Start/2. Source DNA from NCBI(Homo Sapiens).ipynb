{
  "cells": [
    {
      "cell_type": "markdown",
      "metadata": {
        "id": "VYAtmlO_X7jj"
      },
      "source": [
        "# Source DNA from NCBI(Homo Sapiens)\n",
        "\n",
        "\n",
        "## 1. mRNA_Prot: multiple RNA transcripts (DNA sequence format)\n",
        "### Fasta\n",
        "https://ftp.ncbi.nlm.nih.gov/refseq/H_sapiens/mRNA_Prot/"
      ]
    },
    {
      "cell_type": "code",
      "execution_count": null,
      "metadata": {
        "colab": {
          "base_uri": "https://localhost:8080/"
        },
        "id": "EGbGQ_HNgwaW",
        "outputId": "1f091b5b-0837-46ef-dba8-ef7141b2384e"
      },
      "outputs": [],
      "source": [
        "!wget https://ftp.ncbi.nlm.nih.gov/refseq/H_sapiens/mRNA_Prot/human.1.rna.fna.gz\n",
        "!gunzip human.1.rna.fna.gz"
      ]
    },
    {
      "cell_type": "code",
      "execution_count": null,
      "metadata": {
        "colab": {
          "base_uri": "https://localhost:8080/"
        },
        "id": "A9ZMSHmLX8z7",
        "outputId": "2ea76c7d-be6a-4071-c13c-f9639c48f419"
      },
      "outputs": [],
      "source": [
        "!pip install biopython\n",
        "\n",
        "from Bio import Entrez, SeqIO\n",
        "import pandas as pd\n",
        "from google.colab import files"
      ]
    },
    {
      "cell_type": "code",
      "execution_count": null,
      "metadata": {
        "id": "dpj7dTsEfn_2"
      },
      "outputs": [],
      "source": [
        "def fasta_to_csv(filepath, output_path, max_len=200):\n",
        "    data = []\n",
        "    for record in SeqIO.parse(filepath, \"fasta\"):\n",
        "        data.append({\n",
        "            \"ID\": record.id,\n",
        "            \"Length\": len(record.seq),\n",
        "            \"Description\": record.description,\n",
        "            \"Sequence\": str(record.seq[:max_len]) + (\"...\" if len(record.seq) > max_len else \"\")\n",
        "        })\n",
        "    df = pd.DataFrame(data)\n",
        "    df.to_csv(output_path, index=False)\n",
        "    print(f\"✅ Saved {len(df)} records to {output_path}\")\n",
        "    return df"
      ]
    },
    {
      "cell_type": "code",
      "execution_count": null,
      "metadata": {
        "colab": {
          "base_uri": "https://localhost:8080/"
        },
        "id": "tYbMKmxDfvv1",
        "outputId": "f7a4c4da-afd1-4c9d-9ce5-694735b0f2a2"
      },
      "outputs": [],
      "source": [
        "df = fasta_to_csv(\"human.1.rna.fna\", \"human_rna.csv\")"
      ]
    },
    {
      "cell_type": "code",
      "execution_count": null,
      "metadata": {
        "colab": {
          "base_uri": "https://localhost:8080/",
          "height": 424
        },
        "id": "_7gP8oYshC82",
        "outputId": "e77392ee-791e-4334-9b8a-290820ae4b6e"
      },
      "outputs": [],
      "source": [
        "df.head(200)"
      ]
    }
  ],
  "metadata": {
    "colab": {
      "provenance": []
    },
    "kernelspec": {
      "display_name": "Python 3",
      "name": "python3"
    },
    "language_info": {
      "name": "python"
    }
  },
  "nbformat": 4,
  "nbformat_minor": 0
}
